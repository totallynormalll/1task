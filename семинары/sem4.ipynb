{
 "cells": [
  {
   "cell_type": "code",
   "execution_count": null,
   "id": "10a13d1d",
   "metadata": {},
   "outputs": [],
   "source": [
    "#6\n",
    "print('Введите строку:')\n",
    "c=input()\n",
    "s=''\n",
    "k=len(c)\n",
    "for i in c:\n",
    "    if k%(c.find(i)+1) == 0:\n",
    "        s+=i\n",
    "print(s)"
   ]
  },
  {
   "cell_type": "code",
   "execution_count": null,
   "id": "bd7e1693",
   "metadata": {},
   "outputs": [],
   "source": [
    "#7\n",
    "print('Введите 1 строку:')\n",
    "a=input().lower()\n",
    "print('Введите 2 строку:')\n",
    "b=input().lower()\n",
    "for i in a:\n",
    "    if i in b:\n",
    "        b1=b.replace(i, i.upper(), 1)\n",
    "        print(a.find(i)+1, 'символ встречается в строке поиска:', b1)"
   ]
  }
 ],
 "metadata": {
  "kernelspec": {
   "display_name": "Python 3 (ipykernel)",
   "language": "python",
   "name": "python3"
  },
  "language_info": {
   "codemirror_mode": {
    "name": "ipython",
    "version": 3
   },
   "file_extension": ".py",
   "mimetype": "text/x-python",
   "name": "python",
   "nbconvert_exporter": "python",
   "pygments_lexer": "ipython3",
   "version": "3.11.4"
  }
 },
 "nbformat": 4,
 "nbformat_minor": 5
}
