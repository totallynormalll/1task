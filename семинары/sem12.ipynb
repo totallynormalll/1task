{
  "nbformat": 4,
  "nbformat_minor": 0,
  "metadata": {
    "colab": {
      "provenance": []
    },
    "kernelspec": {
      "name": "python3",
      "display_name": "Python 3"
    },
    "language_info": {
      "name": "python"
    }
  },
  "cells": [
    {
      "cell_type": "markdown",
      "source": [
        "1) При помощи стека (можно использовать любую реализацию стека, например, из лекции) проверить, что в строке, содержащей большой фрагмент кода на python, корректно открываются и закрываются скобки '(' и ')'. Заводить какие-либо счетчики и вообще вести подсчет скобок запрещено.\n",
        "Например, в следующей строке корректное количество скобок:\n",
        "'((dsasdas((das(d)das)d)asd)da)'\n",
        "А вот в следующей закрывающих больше, чем открывающих:\n",
        "'(f(gfhd((hgfdg((fghh)dads)das))ds)adddads())))'"
      ],
      "metadata": {
        "id": "S7rwzgT6A5v8"
      }
    },
    {
      "cell_type": "code",
      "execution_count": 5,
      "metadata": {
        "id": "317nzNDeAyBp"
      },
      "outputs": [],
      "source": [
        "# 1\n",
        "class Stack:\n",
        "    def __init__(self):\n",
        "        self.stack = []\n",
        "    def push(self, item):\n",
        "        self.stack.append(item)\n",
        "    def pop(self):\n",
        "        if len(self.stack) == 0:\n",
        "            return None\n",
        "        removed = self.stack.pop()\n",
        "        return removed\n",
        "    def is_empty(self):\n",
        "        return len(self.stack) == 0\n",
        "def check_brackets(expression):\n",
        "    stack = Stack()\n",
        "    for char in expression:\n",
        "        if char == '(':\n",
        "            stack.push(char)\n",
        "        elif char == ')':\n",
        "            if stack.is_empty():\n",
        "                return False\n",
        "            stack.pop()\n",
        "    return stack.is_empty()\n",
        "test 1 = '((dsasdas ((das (d)das)d)asd) da)|'\n",
        "test_2 - '(f(gfhd((hgfdg((fghh)dads)das))ds)adddads())))'\n",
        "tests = [test_1, test_2]\n",
        "for test in tests:\n",
        "    result = check_brackets(test)\n",
        "    print(f'строка {test} корректна: {result}')"
      ]
    },
    {
      "cell_type": "markdown",
      "source": [
        "2) С помощью списка (list) реализовать стек. При создании стека нужно передать максимальную длину стека. В случае попытки добавления элемента, приводящего к превышению емкости стека возвращать ошибку.\n",
        "Стек должен поддерживать следующие операции:\n",
        "S.push(e): добавление элемента e на вершину стека S.\n",
        "S.pop(): удаляет и возвращает верхний элемент стека S. Если стек пуст, то возникает ошибка.\n",
        "S.top(): возвращает верхний элемент стека S, не удаляя его. Если стек пуст, то возникает ошибка.\n",
        "S.is_empty( ): возвращает True если стек S не содержит ни одного элемента.\n",
        "len(S): возвращает текущеее количество элементов в стеке S.\n"
      ],
      "metadata": {
        "id": "nZzp6-i0A6eE"
      }
    },
    {
      "cell_type": "code",
      "source": [
        "# 2\n",
        "class List(object):\n",
        "    def __init__(self, val):\n",
        "        self.val = val\n",
        "        self.lst = []\n",
        "    def push(self, e):\n",
        "        assert len(self.lst) < self.val, 'стек заполнен!'\n",
        "        self.lst.append(e)\n",
        "    def pop(self):\n",
        "        assert len(self.lst) != 0, 'стек пуст!'\n",
        "        return self.lst.pop()\n",
        "    def top(self):\n",
        "        assert len(self.lst) != 0, 'стек пуст!'\n",
        "        return self.lst[-1]\n",
        "    def is_empty(self):\n",
        "        return len (self.lst) == 0\n",
        "    def lenL(self):\n",
        "        return len(self.lst)\n",
        "S = List(3)\n",
        "S.top()"
      ],
      "metadata": {
        "id": "GpqwdbgFA6wz"
      },
      "execution_count": 5,
      "outputs": []
    },
    {
      "cell_type": "markdown",
      "source": [
        "3) Реализовать класс однонаправленного связанного списка.  \n",
        "\n",
        "3.1) Реализовать метод добавления элемента в начало списка.  \n"
      ],
      "metadata": {
        "id": "rneElze-A-QT"
      }
    },
    {
      "cell_type": "code",
      "source": [
        "# 3\n",
        "class Node:\n",
        "    def __init__(self, data = None):\n",
        "        self.data = data\n",
        "        self.next = None\n",
        "class Linkedlist:\n",
        "    def __init__(self）：\n",
        "        self.head = None\n",
        "    def is_empty(self):\n",
        "        return self.head is None\n",
        "    def prepend(self, data):\n",
        "        new_node = Node(data)\n",
        "        new_node.next = self.head\n",
        "        self.head = new_node\n",
        "    def display(self):\n",
        "        current_node = self.head\n",
        "        while current_node:\n",
        "            print(current_node.data, end = ' ')\n",
        "            current_node = current_node.next\n",
        "        print()\n",
        "l1 = LinkedList()\n",
        "l1.prepend('a'); l1.prepend('b'); l1.prepend('c')\n",
        "l1.display()"
      ],
      "metadata": {
        "id": "gSs1_2wFA-fk"
      },
      "execution_count": 5,
      "outputs": []
    },
    {
      "cell_type": "markdown",
      "source": [
        "4) На базе класса однонаправленного связанного списка реализовать двунаправленный связанный список.  \n",
        "\n",
        "4.1) Реализовать метод добавления элемента в начало списка.  \n"
      ],
      "metadata": {
        "id": "iWMlbrvJBBJr"
      }
    },
    {
      "cell_type": "code",
      "source": [
        "# 4\n",
        "def parse_number(text):\n",
        "    numbers_dict = {\n",
        "        'ноль': 0, 'один': 1, 'два': 2, 'три': 3, 'четыре': 4, 'пять': 5,\n",
        "        'шесть': 6, 'семь': 7, 'восемь': 8, 'девять': 9, 'десять': 10,\n",
        "        'одиннадцать': 11, 'двенадцать': 12, 'тринадцать': 13, 'четырнадцать': 14,\n",
        "        'пятнадцать': 15, 'шестнадцать': 16, 'семнадцать': 17, 'восемнадцать': 18,\n",
        "        'девятнадцать': 19, 'двадцать': 20, 'тридцать': 30, 'сорок': 40,\n",
        "        'пятьдесят': 50, 'шестьдесят': 60, 'семьдесят': 70, 'восемьдесят': 80,\n",
        "        'девяносто': 90\n",
        "    }\n",
        "    words = text.split()\n",
        "    result = 0\n",
        "    for word in words:\n",
        "        if word in numbers_dict:\n",
        "            result += numbers_dict[word]\n",
        "    return result\n",
        "def to_numbers(input_file_path, output_file_path=None):\n",
        "    with open(input_file_path, 'r', encoding='utf-8') as file:\n",
        "        lines = file.readlines()\n",
        "    converted_lines = []\n",
        "    for line in lines:\n",
        "        converted_line = ''\n",
        "        words = line.split()\n",
        "        for word in words:\n",
        "            if word.isdigit():\n",
        "                converted_line += word + ' '\n",
        "            else:\n",
        "                converted_line += str(parse_number(word)) + ' '\n",
        "        converted_lines.append(converted_line.strip())\n",
        "    if output_file_path:\n",
        "        with open(output_file_path, 'w', encoding='utf-8') as file:\n",
        "            for line in converted_lines:\n",
        "                file.write(line + '\\n')\n",
        "    else:\n",
        "        for line in converted_lines:\n",
        "            print(line)\n",
        "if __name__ == '__main__':\n",
        "    import sys\n",
        "    if len(sys.argv) < 3:\n",
        "        print(\"Usage: python calculate.py to_numbers input_file [output_file]\")\n",
        "    elif len(sys.argv) == 3:\n",
        "        to_numbers(sys.argv[2])\n",
        "    else:\n",
        "        to_numbers(sys.argv[2], sys.argv[3])\n",
        "\n",
        "from calculate import to_numbers\n",
        "if __name__ == '__main__':\n",
        "    import sys\n",
        "    if len(sys.argv) < 3:\n",
        "        print(\"Usage: python calculate.py to_numbers input_file [output_file]\")\n",
        "    elif len(sys.argv) == 3:\n",
        "        to_numbers(sys.argv[2])\n",
        "    else:\n",
        "        to_numbers(sys.argv[2], sys.argv[3])"
      ],
      "metadata": {
        "id": "j8rvJgeWBB7j"
      },
      "execution_count": null,
      "outputs": []
    },
    {
      "cell_type": "markdown",
      "source": [
        "5) При помощи класса связанного списка реализовать очередь."
      ],
      "metadata": {
        "id": "SOeVQertBsRL"
      }
    }
  ]
}