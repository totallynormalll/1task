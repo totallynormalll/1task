{
  "nbformat": 4,
  "nbformat_minor": 0,
  "metadata": {
    "colab": {
      "provenance": []
    },
    "kernelspec": {
      "name": "python3",
      "display_name": "Python 3"
    },
    "language_info": {
      "name": "python"
    }
  },
  "cells": [
    {
      "cell_type": "code",
      "source": [
        "l1 = ['1', '123', '123', '12', '1', '123']\n",
        "l2 = [2, 4, -2, -3, 0 , 11 , 3 -1]\n",
        "d4 = {1: 10, 2: 20, 3: 30, 4: 40, 5: 50, 6: 60}\n",
        "d5 = {'a': 3, 'b': 4, 'c': 5, 'd': 6, 'e': 7, 'f': 8, 'g': 9}\n",
        "d6 = {'e': 20, 'f': 21, 'g': 22, 'h': 23, 'i': 24, 'j': 25, 'k': 26, 'l': 27}"
      ],
      "metadata": {
        "id": "YC5XwNwFo9Lz"
      },
      "execution_count": 31,
      "outputs": []
    },
    {
      "cell_type": "markdown",
      "source": [
        "4.13) Используюя список l1 создать список, в ктором каждый элемент списка l1 будет заменен значением длинны строки соответствующего элемента в списке l1. Использовать генераторы, решить задачу в одну строку."
      ],
      "metadata": {
        "id": "dec9kVCfozuj"
      }
    },
    {
      "cell_type": "code",
      "source": [
        "print([len(i) for i in l1])"
      ],
      "metadata": {
        "colab": {
          "base_uri": "https://localhost:8080/"
        },
        "id": "uV0C1X-3g6ey",
        "outputId": "81542bd8-8585-4c9f-f8cf-f44d04f24bfa"
      },
      "execution_count": 7,
      "outputs": [
        {
          "output_type": "stream",
          "name": "stdout",
          "text": [
            "[1, 3, 3, 2, 1, 3]\n"
          ]
        }
      ]
    },
    {
      "cell_type": "markdown",
      "source": [
        "4.14) Подсчитать количество строк в списке l1, длина которых больше 2х. Использовать генераторы, решить задачу в одну строку."
      ],
      "metadata": {
        "id": "3y8pgDfBpksv"
      }
    },
    {
      "cell_type": "code",
      "source": [
        "print(len([i for i in l1 if len(i)>2]))"
      ],
      "metadata": {
        "colab": {
          "base_uri": "https://localhost:8080/"
        },
        "id": "jO3qf-fyplH3",
        "outputId": "18f868bb-910d-4598-ac1c-6bcf6c07c240"
      },
      "execution_count": 10,
      "outputs": [
        {
          "output_type": "stream",
          "name": "stdout",
          "text": [
            "3\n"
          ]
        }
      ]
    },
    {
      "cell_type": "markdown",
      "source": [
        "4.15) Просуммировать произведение ключей на значения словаря d4.\n"
      ],
      "metadata": {
        "id": "eBkDZyRVppRC"
      }
    },
    {
      "cell_type": "code",
      "source": [
        "print( sum([i[0]*i[1] for i in d4.items()]) )"
      ],
      "metadata": {
        "colab": {
          "base_uri": "https://localhost:8080/"
        },
        "id": "fKMgxs9oqnKX",
        "outputId": "02977008-689c-42f2-e1e9-9ac767e7407f"
      },
      "execution_count": 12,
      "outputs": [
        {
          "output_type": "stream",
          "name": "stdout",
          "text": [
            "910\n"
          ]
        }
      ]
    },
    {
      "cell_type": "markdown",
      "source": [
        "4.16) На базе словаря d6 составить словарь d7 в котором нет пар ключ-значение с ключами, встречающимися в словаре d5. Использовать генераторы, решить задачу в одну строку."
      ],
      "metadata": {
        "id": "Gi7yE2corhVI"
      }
    },
    {
      "cell_type": "code",
      "source": [
        "d7={key:value for (key,value) in d6.items() if key not in d5}\n",
        "d7"
      ],
      "metadata": {
        "colab": {
          "base_uri": "https://localhost:8080/"
        },
        "id": "rr0oGj8lrhPu",
        "outputId": "eda6581e-49ef-4d8e-b4d1-046745d5ae6c"
      },
      "execution_count": 14,
      "outputs": [
        {
          "output_type": "execute_result",
          "data": {
            "text/plain": [
              "{'h': 23, 'i': 24, 'j': 25, 'k': 26, 'l': 27}"
            ]
          },
          "metadata": {},
          "execution_count": 14
        }
      ]
    },
    {
      "cell_type": "markdown",
      "source": [
        "4.17) Создать список, в котором все числа списка l2 умножены на их номер в списке, остальные элементы сохранены на своих местах. Использовать генераторы, решить задачу в одну строку\n"
      ],
      "metadata": {
        "id": "lW1COswyrhAF"
      }
    },
    {
      "cell_type": "code",
      "source": [
        "print([i*l2.index(i) if str(i).isdigit() else i for i in l2])"
      ],
      "metadata": {
        "colab": {
          "base_uri": "https://localhost:8080/"
        },
        "id": "5ujJaFyZrg7X",
        "outputId": "f7c9d828-fe7f-49c3-c003-5d6a853d391b"
      },
      "execution_count": 21,
      "outputs": [
        {
          "output_type": "stream",
          "name": "stdout",
          "text": [
            "[0, 4, -2, -3, 0, 55, 0]\n"
          ]
        }
      ]
    },
    {
      "cell_type": "markdown",
      "source": [
        "4.18) Создать список, в котором все отрицательные числа списка l2 исключены, остальные элементы сохранены на своих местах. Использовать генераторы, решить задачу в одну строку.\n"
      ],
      "metadata": {
        "id": "-Mry9IBSuH9R"
      }
    },
    {
      "cell_type": "code",
      "source": [
        "print([i for i in l2 if i>=0])"
      ],
      "metadata": {
        "colab": {
          "base_uri": "https://localhost:8080/"
        },
        "id": "AANCfAUduH0s",
        "outputId": "ad92c325-0ecb-43a6-897c-bc7f330cbe78"
      },
      "execution_count": 22,
      "outputs": [
        {
          "output_type": "stream",
          "name": "stdout",
          "text": [
            "[2, 4, 0, 11, 2]\n"
          ]
        }
      ]
    },
    {
      "cell_type": "markdown",
      "source": [
        "4.19) Создать список, в котором все отрицательные числа списка l2 заменены на их номер в списке, остальные элементы сохранены на своих местах. Использовать генераторы и тернарный оператор, решить задачу в одну строку."
      ],
      "metadata": {
        "id": "KRiXmRBjuHO_"
      }
    },
    {
      "cell_type": "code",
      "source": [
        "print([i if i >= 0 else l2.index(i) for i in l2])"
      ],
      "metadata": {
        "colab": {
          "base_uri": "https://localhost:8080/"
        },
        "id": "z6ZGb5CHuG7j",
        "outputId": "b70d3677-3cde-47dd-add2-b4302079411a"
      },
      "execution_count": 36,
      "outputs": [
        {
          "output_type": "stream",
          "name": "stdout",
          "text": [
            "[2, 4, 2, 3, 0, 11, 2]\n"
          ]
        }
      ]
    },
    {
      "cell_type": "markdown",
      "source": [
        "5.1) Написать задокументированную функцию умножения двух чисел. Для каких типов данная функция будет возвращать практически ценный результат? Написать примеры использования этой функции."
      ],
      "metadata": {
        "id": "y8UutsuNuGkT"
      }
    },
    {
      "cell_type": "code",
      "source": [
        "def multiplication_1(a,b):\n",
        "    \"\"\"функция multiplication_1 вернет произведение двух чисел\"\"\"\n",
        "    return a*b"
      ],
      "metadata": {
        "id": "norKSMDxwOYL"
      },
      "execution_count": 38,
      "outputs": []
    }
  ]
}