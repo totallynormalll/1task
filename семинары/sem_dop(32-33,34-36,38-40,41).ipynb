{
  "nbformat": 4,
  "nbformat_minor": 0,
  "metadata": {
    "colab": {
      "provenance": []
    },
    "kernelspec": {
      "name": "python3",
      "display_name": "Python 3"
    },
    "language_info": {
      "name": "python"
    }
  },
  "cells": [
    {
      "cell_type": "markdown",
      "source": [
        "32. Используя модуль array и библиотеку numpy, решить следующие задачи:\n",
        "а) Дан массив размера  N . После каждого отрицательного элемента массива вставить элемент с нулевым значением.\n",
        "б) Дана матрица размера  M×N . Упорядочить ее столбцы так, чтобы их последние элементы образовывали убывающую последовательность."
      ],
      "metadata": {
        "id": "87m6WlWTyeUB"
      }
    },
    {
      "cell_type": "code",
      "execution_count": null,
      "metadata": {
        "colab": {
          "base_uri": "https://localhost:8080/"
        },
        "id": "6t8nwvY6x0tu",
        "outputId": "f5f2a872-96c8-4120-819c-591f7ab002cb"
      },
      "outputs": [
        {
          "output_type": "stream",
          "name": "stdout",
          "text": [
            "[ 1 -2  0  3  4 -5  0  6]\n",
            "[[3 2 1]\n",
            " [6 5 4]\n",
            " [9 8 7]]\n"
          ]
        }
      ],
      "source": [
        "import numpy as np\n",
        "\n",
        "# а) Дан массив размера N. После каждого отрицательного элемента массива вставить элемент с нулевым значением.\n",
        "def insert_zero_after_negative(arr):\n",
        "    arr = np.array(arr)\n",
        "    neg_indices = np.where(arr < 0)[0]\n",
        "    result = np.insert(arr, neg_indices + 1, 0)\n",
        "    return result\n",
        "\n",
        "# Пример использования\n",
        "arr_a = [1, -2, 3, 4, -5, 6]\n",
        "result_a = insert_zero_after_negative(arr_a)\n",
        "print(result_a)\n",
        "\n",
        "# б) Дана матрица размера M×N. Упорядочить ее столбцы так, чтобы их последние элементы образовывали убывающую последовательность.\n",
        "def sort_columns_by_last_element(matrix):\n",
        "    matrix = np.array(matrix)\n",
        "    last_elements = matrix[:, -1]\n",
        "    sorted_indices = np.argsort(last_elements)[::-1]\n",
        "    result = matrix[:, sorted_indices]\n",
        "    return result\n",
        "\n",
        "# Пример использования\n",
        "mat_b = np.array([[1, 2, 3],\n",
        "                  [4, 5, 6],\n",
        "                  [7, 8, 9]])\n",
        "result_b = sort_columns_by_last_element(mat_b)\n",
        "print(result_b)"
      ]
    },
    {
      "cell_type": "markdown",
      "source": [
        "33. Дан стек. Необходимо найти среднее арифметическое всех его элементов."
      ],
      "metadata": {
        "id": "RjKxEu_Fyhp4"
      }
    },
    {
      "cell_type": "code",
      "source": [
        "stack = [1, 2, 3, 4, 5]  # пример стека\n",
        "\n",
        "total = 0\n",
        "count = 0\n",
        "\n",
        "while stack:\n",
        "    total += stack.pop()\n",
        "    count += 1\n",
        "\n",
        "average = total / count\n",
        "print(\"Среднее арифметическое всех элементов стека:\", average)\n"
      ],
      "metadata": {
        "id": "85ZhAQl_yiMJ",
        "colab": {
          "base_uri": "https://localhost:8080/"
        },
        "outputId": "430ba403-8cf4-4315-e74f-bd89d88348cf"
      },
      "execution_count": null,
      "outputs": [
        {
          "output_type": "stream",
          "name": "stdout",
          "text": [
            "Среднее арифметическое всех элементов стека: 3.0\n"
          ]
        }
      ]
    },
    {
      "cell_type": "code",
      "source": [
        "def найти_среднее_арифметическое(стек):\n",
        "    сумма = 0\n",
        "    количество_элементов = 0\n",
        "\n",
        "    while not стек.пустой():\n",
        "        элемент = стек.удалить_верхний()\n",
        "\n",
        "        if isinstance(элемент, (int, float)):\n",
        "            сумма += элемент\n",
        "            количество_элементов += 1\n",
        "\n",
        "    if количество_элементов > 0:\n",
        "        return сумма / количество_элементов\n",
        "    else:\n",
        "        return \"Стек пустой, невозможно найти среднее арифметическое\"\n"
      ],
      "metadata": {
        "id": "IqX6J-MkV_D8"
      },
      "execution_count": null,
      "outputs": []
    },
    {
      "cell_type": "markdown",
      "source": [
        "34. Создать класс очереди, который будет поддерживать операции добавления элемента в конец очереди и удаления элемента из середины очереди по значению."
      ],
      "metadata": {
        "id": "ychhsJwdys54"
      }
    },
    {
      "cell_type": "code",
      "source": [
        "class Queue:\n",
        "    def __init__(self):\n",
        "        self.queue = []\n",
        "\n",
        "    def add_to_end(self, value):\n",
        "        self.queue.append(value)\n",
        "\n",
        "    def remove_by_value(self, value):\n",
        "        if value in self.queue:\n",
        "            self.queue.remove(value)\n",
        "        else:\n",
        "            print(\"Element not found in queue\")\n",
        "\n",
        "    def display_queue(self):\n",
        "        print(self.queue)\n",
        "\n",
        "\n",
        "# Пример использования\n",
        "q = Queue()\n",
        "q.add_to_end(1)\n",
        "q.add_to_end(2)\n",
        "q.add_to_end(3)\n",
        "q.add_to_end(4)\n",
        "q.display_queue()\n",
        "\n",
        "q.remove_by_value(2)\n",
        "q.display_queue()"
      ],
      "metadata": {
        "id": "NsEjqFyqytJ5",
        "colab": {
          "base_uri": "https://localhost:8080/"
        },
        "outputId": "29a3b68e-a319-44e5-87be-1f241cf1c37e"
      },
      "execution_count": null,
      "outputs": [
        {
          "output_type": "stream",
          "name": "stdout",
          "text": [
            "[1, 2, 3, 4]\n",
            "[1, 3, 4]\n"
          ]
        }
      ]
    },
    {
      "cell_type": "markdown",
      "source": [
        "35. Создайте двусвязный список для хранения информации о студентах в университете. Каждый элемент списка должен содержать имя, фамилию, номер группы, список предметов, которые студент изучает, и оценки по каждому предмету."
      ],
      "metadata": {
        "id": "BKA7GC9VWffy"
      }
    },
    {
      "cell_type": "code",
      "source": [
        "class Node: #класс для создания узла списка, который содержит информацию о студенте\n",
        "    def __init__(self, first_name, last_name, group_number, subjects=None, grades=None):\n",
        "        self.first_name = first_name\n",
        "        self.last_name = last_name\n",
        "        self.group_number = group_number\n",
        "        self.subjects = subjects if subjects else []\n",
        "        self.grades = grades if grades else []\n",
        "        self.prev = None\n",
        "        self.next = None\n",
        "\n",
        "class DoublyLinkedList: #класс для создания двусвязного списка студентов\n",
        "    def __init__(self):\n",
        "        self.head = None\n",
        "\n",
        "    def add_student(self, first_name, last_name, group_number, subjects=None, grades=None): # метод для добавления нового студента в список\n",
        "        new_student = Node(first_name, last_name, group_number, subjects, grades)\n",
        "        if not self.head:\n",
        "            self.head = new_student\n",
        "        else:\n",
        "            current = self.head\n",
        "            while current.next:\n",
        "                current = current.next\n",
        "            current.next = new_student\n",
        "            new_student.prev = current\n",
        "\n",
        "    def display_students(self): #\n",
        "        current = self.head\n",
        "        while current:\n",
        "            print(f\"Name: {current.first_name} {current.last_name}, Group: {current.group_number}\")\n",
        "            if current.subjects:\n",
        "                for i in range(len(current.subjects)):\n",
        "                    print(f\"Subject: {current.subjects[i]}, Grade: {current.grades[i]}\")\n",
        "            current = current.next\n",
        "\n",
        "# Пример\n",
        "university = DoublyLinkedList()\n",
        "university.add_student(\"John\", \"Doe\", \"A123\", [\"Math\", \"Physics\"], [85, 90])\n",
        "university.add_student(\"Jane\", \"Smith\", \"B456\", [\"Chemistry\", \"Biology\"], [75, 80])\n",
        "\n",
        "university.display_students()"
      ],
      "metadata": {
        "colab": {
          "base_uri": "https://localhost:8080/"
        },
        "id": "izeSnobmiS_3",
        "outputId": "7305f1a1-9e01-4387-97f1-77a98c82317d"
      },
      "execution_count": null,
      "outputs": [
        {
          "output_type": "stream",
          "name": "stdout",
          "text": [
            "Name: John Doe, Group: A123\n",
            "Subject: Math, Grade: 85\n",
            "Subject: Physics, Grade: 90\n",
            "Name: Jane Smith, Group: B456\n",
            "Subject: Chemistry, Grade: 75\n",
            "Subject: Biology, Grade: 80\n"
          ]
        }
      ]
    },
    {
      "cell_type": "code",
      "source": [
        "class Node:\n",
        "    def __init__(self, name, surname, group_number, subjects, grades):\n",
        "        self.name = name\n",
        "        self.surname = surname\n",
        "        self.group_number = group_number\n",
        "        self.subjects = subjects if subjects is not None else []\n",
        "        self.grades = grades if grades is not None else []\n",
        "        self.prev = None\n",
        "        self.next = None\n",
        "\n",
        "\n",
        "class DoublyLinkedList:\n",
        "    def __init__(self):\n",
        "        self.head = None\n",
        "        self.tail = None\n",
        "\n",
        "    def append(self, name=None, surname=None, group_number=None, subjects=None, grades=None):\n",
        "        new_node = Node(name, surname, group_number, subjects, grades)\n",
        "        if self.head is None:\n",
        "            self.head = new_node\n",
        "            self.tail = new_node\n",
        "        else:\n",
        "            new_node.prev = self.tail\n",
        "            self.tail.next = new_node\n",
        "            self.tail = new_node\n",
        "\n",
        "    def display_list(self):\n",
        "        current = self.head\n",
        "        while current:\n",
        "            print(\"Name:\", current.name)\n",
        "            print(\"Surname:\", current.surname)\n",
        "            print(\"Group Number:\", current.group_number)\n",
        "            print(\"Subjects:\", current.subjects)\n",
        "            print(\"Grades:\", current.grades)\n",
        "            print()\n",
        "            current = current.next\n",
        "\n",
        "\n",
        "# Пример использования\n",
        "students_list = DoublyLinkedList()\n",
        "students_list.append(\"Alice\", \"Smith\", \"Group 1\", [\"Math\", \"Physics\"], [85, 90])\n",
        "students_list.append(\"Bob\", \"Johnson\", \"Group 2\", [\"Chemistry\", \"Biology\"], [78, 82])\n",
        "students_list.display_list()\n"
      ],
      "metadata": {
        "colab": {
          "base_uri": "https://localhost:8080/"
        },
        "id": "Negs6nmlWfzr",
        "outputId": "f27c55ce-b18b-4cd8-9bf6-2bca7f671e36"
      },
      "execution_count": null,
      "outputs": [
        {
          "output_type": "stream",
          "name": "stdout",
          "text": [
            "Name: Alice\n",
            "Surname: Smith\n",
            "Group Number: Group 1\n",
            "Subjects: ['Math', 'Physics']\n",
            "Grades: [85, 90]\n",
            "\n",
            "Name: Bob\n",
            "Surname: Johnson\n",
            "Group Number: Group 2\n",
            "Subjects: ['Chemistry', 'Biology']\n",
            "Grades: [78, 82]\n",
            "\n"
          ]
        }
      ]
    },
    {
      "cell_type": "markdown",
      "source": [
        "36. Реализовать функцию, которая находит среднее арифметическое всех элементов двусвязного списка."
      ],
      "metadata": {
        "id": "30iehofeWjVU"
      }
    },
    {
      "cell_type": "code",
      "source": [
        "class Node:\n",
        "    def __init__(self, data):\n",
        "        self.data = data\n",
        "        self.prev = None\n",
        "        self.next = None\n",
        "\n",
        "class DoublyLinkedList:\n",
        "    def __init__(self):\n",
        "        self.head = None\n",
        "\n",
        "    def add_node(self, data):\n",
        "        new_node = Node(data)\n",
        "        if self.head is None:\n",
        "            self.head = new_node\n",
        "        else:\n",
        "            current = self.head\n",
        "            while current.next:\n",
        "                current = current.next\n",
        "            current.next = new_node\n",
        "            new_node.prev = current\n",
        "\n",
        "    def calculate_average(self):\n",
        "        total = 0\n",
        "        count = 0\n",
        "        current = self.head\n",
        "        while current:\n",
        "            total += current.data\n",
        "            count += 1\n",
        "            current = current.next\n",
        "\n",
        "        if count == 0:\n",
        "            return 0\n",
        "        else:\n",
        "            return total / count\n",
        "\n",
        "# Пример использования\n",
        "dll = DoublyLinkedList()\n",
        "dll.add_node(10)\n",
        "dll.add_node(20)\n",
        "dll.add_node(30)\n",
        "\n",
        "average = dll.calculate_average()\n",
        "print(\"Среднее арифметическое всех элементов двусвязного списка:\", average)\n"
      ],
      "metadata": {
        "id": "frIkR7e58SS3",
        "outputId": "bc5163aa-1a4b-42b8-802c-43b2263f0ea7",
        "colab": {
          "base_uri": "https://localhost:8080/"
        }
      },
      "execution_count": null,
      "outputs": [
        {
          "output_type": "stream",
          "name": "stdout",
          "text": [
            "Среднее арифметическое всех элементов двусвязного списка: 20.0\n"
          ]
        }
      ]
    },
    {
      "cell_type": "code",
      "source": [
        "class Node:\n",
        "    def __init__(self, value=None):\n",
        "        self.value = value\n",
        "        self.prev = None\n",
        "        self.next = None\n",
        "\n",
        "\n",
        "class DoublyLinkedList:\n",
        "    def __init__(self):\n",
        "        self.head = None\n",
        "        self.tail = None\n",
        "\n",
        "    def append(self, value):\n",
        "        new_node = Node(value)\n",
        "        if self.head is None:\n",
        "            self.head = new_node\n",
        "            self.tail = new_node\n",
        "        else:\n",
        "            new_node.prev = self.tail\n",
        "            self.tail.next = new_node\n",
        "            self.tail = new_node\n",
        "\n",
        "    def display_list(self):\n",
        "        current = self.head\n",
        "        while current:\n",
        "            print(current.value)\n",
        "            current = current.next\n",
        "\n",
        "    def find_average(self):\n",
        "        current = self.head\n",
        "        sum_values = 0\n",
        "        count = 0\n",
        "        while current:\n",
        "            sum_values += current.value\n",
        "            count += 1\n",
        "            current = current.next\n",
        "        if count == 0:\n",
        "            return 0\n",
        "        return sum_values / count\n",
        "\n",
        "\n",
        "# Пример использования\n",
        "my_list = DoublyLinkedList()\n",
        "my_list.append(10)\n",
        "my_list.append(20)\n",
        "my_list.append(30)\n",
        "\n",
        "print(\"Doubly Linked List:\")\n",
        "my_list.display_list()\n",
        "\n",
        "average = my_list.find_average()\n",
        "print(\"Average of the elements:\", average)\n"
      ],
      "metadata": {
        "colab": {
          "base_uri": "https://localhost:8080/"
        },
        "id": "7tFh2WeWWjO0",
        "outputId": "c51413bb-153e-4e10-d787-d671474e7ea6"
      },
      "execution_count": null,
      "outputs": [
        {
          "output_type": "stream",
          "name": "stdout",
          "text": [
            "Doubly Linked List:\n",
            "10\n",
            "20\n",
            "30\n",
            "Average of the elements: 20.0\n"
          ]
        }
      ]
    },
    {
      "cell_type": "markdown",
      "source": [
        "37. Реализовать функцию, которая удаляет все повторяющиеся элементы из циклического двусвязного списка."
      ],
      "metadata": {
        "id": "AlWPhIO-WjHb"
      }
    },
    {
      "cell_type": "code",
      "source": [
        "class Node:\n",
        "    def __init__(self, value=None):\n",
        "        self.value = value\n",
        "        self.prev = None\n",
        "        self.next = None\n",
        "\n",
        "\n",
        "class DoublyLinkedList:\n",
        "    def __init__(self):\n",
        "        self.head = None\n",
        "        self.tail = None\n",
        "\n",
        "    def append(self, value):\n",
        "        new_node = Node(value)\n",
        "        if self.head is None:\n",
        "            self.head = new_node\n",
        "            self.tail = new_node\n",
        "        else:\n",
        "            new_node.prev = self.tail\n",
        "            self.tail.next = new_node\n",
        "            self.tail = new_node\n",
        "\n",
        "    def display_list(self):\n",
        "        current = self.head\n",
        "        while current:\n",
        "            print(current.value)\n",
        "            current = current.next\n",
        "\n",
        "    def remove_duplicates(self):\n",
        "        current_node = self.head\n",
        "        while current_node:\n",
        "            runner = current_node.next\n",
        "            while runner:\n",
        "                if current_node.value == runner.value:\n",
        "                    runner.prev.next = runner.next\n",
        "                    if runner.next:\n",
        "                        runner.next.prev = runner.prev\n",
        "                runner = runner.next\n",
        "            current_node = current_node.next\n",
        "\n",
        "\n",
        "# Пример использования\n",
        "my_list = DoublyLinkedList()\n",
        "my_list.append(10)\n",
        "my_list.append(20)\n",
        "my_list.append(10)\n",
        "my_list.append(30)\n",
        "my_list.append(20)\n",
        "my_list.append(30)\n",
        "\n",
        "print(\"Original Doubly Linked List:\")\n",
        "my_list.display_list()\n",
        "\n",
        "my_list.remove_duplicates()\n",
        "\n",
        "print(\"\\nList after removing duplicates:\")\n",
        "my_list.display_list()\n"
      ],
      "metadata": {
        "colab": {
          "base_uri": "https://localhost:8080/"
        },
        "id": "2Sy2nu2SWjAT",
        "outputId": "514397a6-1bd7-4d6f-f680-726340af081c"
      },
      "execution_count": null,
      "outputs": [
        {
          "output_type": "stream",
          "name": "stdout",
          "text": [
            "Original Doubly Linked List:\n",
            "10\n",
            "20\n",
            "10\n",
            "30\n",
            "20\n",
            "30\n",
            "\n",
            "List after removing duplicates:\n",
            "10\n",
            "20\n",
            "30\n"
          ]
        }
      ]
    },
    {
      "cell_type": "markdown",
      "source": [
        "41\n",
        "а) Создать класс «Продукт» с полями «Название», «Цена», «Количество» и «Срок годности». Создать хеш-таблицу для хранения объектов класса «Продукт» по ключу — названию продукта.\n",
        "б) Написать функцию для нахождения наиболее часто встречающегося ключа в хеш-таблице.\n",
        "в) Реализуйте хеш-таблицу для хранения информации о заказах в ресторане. Ключом является номер заказа, значение — объект, содержащий информацию о заказе (список блюд, стоимость заказа, адрес доставки и т.д.). Используйте метод разрешения коллизий методом цепочек и реализуйте возможность поиска элементов в таблице."
      ],
      "metadata": {
        "id": "kFfRddX-iiLw"
      }
    },
    {
      "cell_type": "code",
      "source": [
        "class Product:\n",
        "    def __init__(self, name, price, quantity, expiry_date):\n",
        "        self.name = name\n",
        "        self.price = price\n",
        "        self.quantity = quantity\n",
        "        self.expiry_date = expiry_date\n",
        "\n",
        "class ProductHashTable:\n",
        "    def __init__(self):\n",
        "        self.table = {}\n",
        "\n",
        "    def add_product(self, product):\n",
        "        self.table[product.name] = product\n",
        "\n",
        "    def find_product(self, product_name):\n",
        "        if product_name in self.table:\n",
        "            return self.table[product_name]\n",
        "        else:\n",
        "            return None\n",
        "\n",
        "# Пример:\n",
        "product_table = ProductHashTable()\n",
        "\n",
        "product1 = Product(\"Яблоки\", 2.5, 10, \"01.01.2022\")\n",
        "product2 = Product(\"Молоко\", 1.5, 5, \"05.01.2022\")\n",
        "\n",
        "product_table.add_product(product1)\n",
        "product_table.add_product(product2)\n",
        "\n",
        "found_product = product_table.find_product(\"Яблоки\")\n",
        "if found_product:\n",
        "    print(\"Информация о продукте:\", found_product.name, found_product.price, found_product.quantity, found_product.expiry_date)\n",
        "else:\n",
        "    print(\"Продукт не найден.\")"
      ],
      "metadata": {
        "colab": {
          "base_uri": "https://localhost:8080/"
        },
        "id": "cTWMFVa1nrgt",
        "outputId": "46beaf16-7075-462b-f761-3bfbe556ea11"
      },
      "execution_count": null,
      "outputs": [
        {
          "output_type": "stream",
          "name": "stdout",
          "text": [
            "Информация о продукте: Яблоки 2.5 10 01.01.2022\n"
          ]
        }
      ]
    },
    {
      "cell_type": "code",
      "source": [
        "class Product:\n",
        "    def __init__(self, name, price, quantity, expiry_date):\n",
        "        self.name = name\n",
        "        self.price = price\n",
        "        self.quantity = quantity\n",
        "        self.expiry_date = expiry_date\n",
        "\n",
        "product_table = {}\n",
        "\n",
        "def add_product_to_table(product):\n",
        "    product_table[product.name] = product\n",
        "\n",
        "# Пример использования:\n",
        "product1 = Product(\"Яблоки\", 2.5, 10, \"01.01.2022\")\n",
        "product2 = Product(\"Молоко\", 1.5, 5, \"05.01.2022\")\n",
        "\n",
        "add_product_to_table(product1)\n",
        "add_product_to_table(product2)\n",
        "product_table"
      ],
      "metadata": {
        "colab": {
          "base_uri": "https://localhost:8080/"
        },
        "id": "JzfbgIy0iidY",
        "outputId": "0eeb2091-30c7-40fc-f120-ce61e2c4dc46"
      },
      "execution_count": null,
      "outputs": [
        {
          "output_type": "execute_result",
          "data": {
            "text/plain": [
              "{'Яблоки': <__main__.Product at 0x7eb44e287730>,\n",
              " 'Молоко': <__main__.Product at 0x7eb44e285330>}"
            ]
          },
          "metadata": {},
          "execution_count": 4
        }
      ]
    },
    {
      "cell_type": "markdown",
      "source": [
        "Написать функцию для нахождения наиболее часто встречающегося ключа в хеш-таблице."
      ],
      "metadata": {
        "id": "2sIn6QSsCM_Z"
      }
    },
    {
      "cell_type": "code",
      "source": [
        "def most_frequent_key(hash_table):\n",
        "    key_count = {}\n",
        "    max_count = 0\n",
        "    most_frequent_key = None\n",
        "\n",
        "    # Подсчет количества вхождений каждого ключа\n",
        "    for key in hash_table:\n",
        "        if key in key_count:\n",
        "            key_count[key] += 1\n",
        "        else:\n",
        "            key_count[key] = 1\n",
        "\n",
        "        # Обновление наиболее часто встречающегося ключа\n",
        "        if key_count[key] > max_count:\n",
        "            max_count = key_count[key]\n",
        "            most_frequent_key = key\n",
        "\n",
        "    return most_frequent_key\n",
        "\n",
        "# Пример использования:\n",
        "product_table = ProductHashTable()\n",
        "\n",
        "product1 = Product(\"Яблоки\", 2.5, 10, \"01.01.2022\")\n",
        "product2 = Product(\"Молоко\", 1.5, 5, \"05.01.2022\")\n",
        "product3 = Product(\"Яблоки\", 2.5, 10, \"01.01.2022\")\n",
        "product4 = Product(\"Хлеб\", 1.0, 2, \"10.01.2022\")\n",
        "\n",
        "product_table.add_product(product1)\n",
        "product_table.add_product(product2)\n",
        "product_table.add_product(product3)\n",
        "product_table.add_product(product4)\n",
        "\n",
        "most_frequent = most_frequent_key(product_table.table)\n",
        "print(\"Наиболее часто встречающийся ключ:\", most_frequent)\n"
      ],
      "metadata": {
        "colab": {
          "base_uri": "https://localhost:8080/"
        },
        "id": "iVZHn8aZn4T-",
        "outputId": "ee218bc1-6c57-48b1-851e-f9d42c844392"
      },
      "execution_count": null,
      "outputs": [
        {
          "output_type": "stream",
          "name": "stdout",
          "text": [
            "Наиболее часто встречающийся ключ: Яблоки\n"
          ]
        }
      ]
    },
    {
      "cell_type": "code",
      "source": [
        "class OrderHashTable:\n",
        "    def __init__(self, size):\n",
        "        self.size = size\n",
        "        self.table = [[] for _ in range(size)]\n",
        "\n",
        "    def hash_function(self, key):\n",
        "        return key % self.size\n",
        "\n",
        "    def add_order(self, order):\n",
        "        key = order.order_number\n",
        "        index = self.hash_function(key)\n",
        "        self.table[index].append(order)\n",
        "\n",
        "    def find_order(self, order_number):\n",
        "        index = self.hash_function(order_number)\n",
        "        for order in self.table[index]:\n",
        "            if order.order_number == order_number:\n",
        "                return order\n",
        "        return None\n",
        "\n",
        "# Пример использования:\n",
        "class Order:\n",
        "    def __init__(self, order_number, dishes, total_cost, delivery_address):\n",
        "        self.order_number = order_number\n",
        "        self.dishes = dishes\n",
        "        self.total_cost = total_cost\n",
        "        self.delivery_address = delivery_address\n",
        "\n",
        "order_table = OrderHashTable(10)\n",
        "\n",
        "order1 = Order(1, [\"Пицца\", \"Салат\"], 500, \"ул. Пушкина, д. 10\")\n",
        "order2 = Order(2, [\"Суши\", \"Роллы\"], 800, \"ул. Лермонтова, д. 5\")\n",
        "order3 = Order(3, [\"Стейк\", \"Картофель\"], 1200, \"ул. Толстого, д. 15\")\n",
        "order4 = Order(4, [\"Суп\", \"Гарнир\"], 400, \"ул. Гоголя, д. 20\")\n",
        "\n",
        "order_table.add_order(order1)\n",
        "order_table.add_order(order2)\n",
        "order_table.add_order(order3)\n",
        "order_table.add_order(order4)\n",
        "\n",
        "found_order = order_table.find_order(2)\n",
        "if found_order:\n",
        "    print(\"Найден заказ:\", found_order.order_number)\n",
        "else:\n",
        "    print(\"Заказ не найден\")\n"
      ],
      "metadata": {
        "colab": {
          "base_uri": "https://localhost:8080/"
        },
        "id": "Ot_TtNx9oW-H",
        "outputId": "2b96efcf-4895-4903-ca10-e69a8fd7fae1"
      },
      "execution_count": null,
      "outputs": [
        {
          "output_type": "stream",
          "name": "stdout",
          "text": [
            "Найден заказ: 2\n"
          ]
        }
      ]
    }
  ]
}
