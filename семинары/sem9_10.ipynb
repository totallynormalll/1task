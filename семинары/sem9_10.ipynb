{
  "nbformat": 4,
  "nbformat_minor": 0,
  "metadata": {
    "colab": {
      "provenance": []
    },
    "kernelspec": {
      "name": "python3",
      "display_name": "Python 3"
    },
    "language_info": {
      "name": "python"
    }
  },
  "cells": [
    {
      "cell_type": "markdown",
      "source": [
        "1. Создать класс «Студент» и реализовать методы для установки и получения имени студента."
      ],
      "metadata": {
        "id": "TZYjpZIwL1fe"
      }
    },
    {
      "cell_type": "code",
      "source": [
        "import functools"
      ],
      "metadata": {
        "id": "-Y1r3IwoL0Ub"
      },
      "execution_count": 6,
      "outputs": []
    },
    {
      "cell_type": "code",
      "source": [
        "class Student:\n",
        "    def __init__(self):\n",
        "        self.name = None\n",
        "\n",
        "    def set_name(self, name):\n",
        "        self.name = name\n",
        "\n",
        "    def get_name(self):\n",
        "        return self.name\n",
        "\n",
        "student = Student()\n",
        "\n",
        "student.set_name('Charles')\n",
        "print(student.get_name())"
      ],
      "metadata": {
        "colab": {
          "base_uri": "https://localhost:8080/"
        },
        "id": "5DawmCTPL8Xz",
        "outputId": "7f7622b6-e5d7-4b8c-ab07-8c22a827704c"
      },
      "execution_count": 22,
      "outputs": [
        {
          "output_type": "stream",
          "name": "stdout",
          "text": [
            "Charles\n"
          ]
        }
      ]
    },
    {
      "cell_type": "markdown",
      "source": [
        "Задача 2.\n",
        "Создать класс «Товар» с методами для установки и получения цены товара.\n"
      ],
      "metadata": {
        "id": "m9FCmBuXMIoF"
      }
    },
    {
      "cell_type": "code",
      "source": [
        "class Product:\n",
        "  def __init__(self):\n",
        "      self.price = None\n",
        "\n",
        "  def set_price(self, price):\n",
        "      self.price = price\n",
        "\n",
        "  def get_price(self):\n",
        "      return self.price\n",
        "\n",
        "product = Product()\n",
        "\n",
        "product.set_price(6677.8)\n",
        "print(product.get_price())"
      ],
      "metadata": {
        "colab": {
          "base_uri": "https://localhost:8080/"
        },
        "id": "2sEtCQFkMI4g",
        "outputId": "6ea5b2b1-b64b-4543-bb9c-0439146784f1"
      },
      "execution_count": 14,
      "outputs": [
        {
          "output_type": "stream",
          "name": "stdout",
          "text": [
            "6677.8\n"
          ]
        }
      ]
    },
    {
      "cell_type": "markdown",
      "source": [
        "Задача 3.\n",
        "Создать класс «Калькулятор» с методами для выполнения простых математических операций: сложение, вычитание, умножение и деление.\n"
      ],
      "metadata": {
        "id": "yFYp3-4jMPSj"
      }
    },
    {
      "cell_type": "code",
      "source": [
        "import functools\n",
        "class Calculator(object):\n",
        "    __type = 'Calculator'\n",
        "\n",
        "    def sum(self, *num):\n",
        "        return functools.reduce(lambda x, y: x + y, num)\n",
        "\n",
        "    def razn(self, *num):\n",
        "        return functools.reduce(lambda x, y: x - y, num)\n",
        "\n",
        "    def umn(self, *num):\n",
        "        return functools.reduce(lambda x, y: x * y, num)\n",
        "\n",
        "    def de(self, *num):\n",
        "        return functools.reduce(lambda x, y: x / y, num)\n",
        "\n",
        "calc = Calculator()\n",
        "\n",
        "print(calc.sum(3, 4, 5, 6, 7, 8))\n",
        "print(calc.razn(5, 2))\n",
        "print(calc.umn(2, 3))\n",
        "print(calc.de(6, 3))\n"
      ],
      "metadata": {
        "colab": {
          "base_uri": "https://localhost:8080/"
        },
        "id": "NUt7fy7bMPiz",
        "outputId": "7e6383b9-1874-4fe6-cbbc-ce0f9063919a"
      },
      "execution_count": 19,
      "outputs": [
        {
          "output_type": "stream",
          "name": "stdout",
          "text": [
            "33\n",
            "3\n",
            "6\n",
            "2.0\n"
          ]
        }
      ]
    },
    {
      "cell_type": "markdown",
      "source": [
        "Задача 4.\n",
        "Создайте класс Soda (для определения типа газированной воды), принимающий 1 аргумент при инициализации (отвечающий за добавку к выбираемому лимонаду). В этом классе реализуйте метод show_my_drink(), выводящий на печать Газировка и {ДОБАВКА} в случае наличия добавки, а иначе отобразится следующая фраза: Обычная газировка."
      ],
      "metadata": {
        "id": "I7cpktWIMiGP"
      }
    },
    {
      "cell_type": "code",
      "source": [
        "class Soda:\n",
        "\n",
        "    def __init__(self, name, element=None):\n",
        "        self.name = name\n",
        "        self.element = element\n",
        "\n",
        "    def show_my_drink(self):\n",
        "        if self.element == None:\n",
        "            return f'Regular soda'\n",
        "\n",
        "        return f'{self.name} {self.element}'\n",
        "\n",
        "\n",
        "soda1 = Soda('Брусника', 'Клюква')\n",
        "soda2 = Soda('Пум')\n",
        "\n",
        "print(soda1.show_my_drink())\n",
        "print(soda2.show_my_drink())"
      ],
      "metadata": {
        "colab": {
          "base_uri": "https://localhost:8080/"
        },
        "id": "C-ZeFlQvMiUN",
        "outputId": "fe449539-dfe8-4756-c3a2-ff7785b7594d"
      },
      "execution_count": 20,
      "outputs": [
        {
          "output_type": "stream",
          "name": "stdout",
          "text": [
            "Брусника Клюква\n",
            "Regular soda\n"
          ]
        }
      ]
    },
    {
      "cell_type": "markdown",
      "source": [
        "Задача 5.\n",
        "Николаю требуется проверить, возможно ли из представленных отрезков условной длины сформировать треугольник. Для этого он решил создать класс TriangleChecker, принимающий только положительные числа. С помощью метода is_triangle() возвращаются следующие значения (в зависимости от ситуации):\n",
        "– Ура, можно построить треугольник!;\n",
        "– С отрицательными числами ничего не выйдет!;\n",
        "– Нужно вводить только числа!;\n",
        "– Жаль, но из этого треугольник не сделать.\n"
      ],
      "metadata": {
        "id": "lY_rycreMsmq"
      }
    },
    {
      "cell_type": "code",
      "execution_count": 21,
      "metadata": {
        "colab": {
          "base_uri": "https://localhost:8080/"
        },
        "id": "PNDrUmZfLQuB",
        "outputId": "0c211e0d-dfb5-4299-a688-2eba3a511229"
      },
      "outputs": [
        {
          "output_type": "stream",
          "name": "stdout",
          "text": [
            "Из этого треугольник не построить.\n"
          ]
        }
      ],
      "source": [
        "\n",
        "class TriangleChecker:\n",
        "    def __init__(self, a, b, c):\n",
        "\n",
        "        if not all(isinstance(var, (int, float)) for var in (a, b, c)):\n",
        "            raise TypeError('Нужно вводить только числа')\n",
        "\n",
        "        if a > 0 and b > 0 and c > 0:\n",
        "            self.a = a\n",
        "            self.b = b\n",
        "            self.c = c\n",
        "\n",
        "        else:\n",
        "            raise ValueError('Отрезки должны быть меньше 0')\n",
        "\n",
        "    def is_triangle(self):\n",
        "        if self.c < self.a + self.b and self.b < self.a + self.c and self.a < self.b + self.c:\n",
        "            return 'Можно построить треугольник!'\n",
        "\n",
        "        else:\n",
        "            return 'Из этого треугольник не построить.'\n",
        "\n",
        "\n",
        "tr = TriangleChecker(3, 3, 7)\n",
        "print(tr.is_triangle())"
      ]
    }
  ]
}