{
 "cells": [
  {
   "cell_type": "code",
   "execution_count": null,
   "id": "4802c532",
   "metadata": {},
   "outputs": [],
   "source": [
    "#1\n",
    "main = [31, 24, 17]\n",
    "\n",
    "first = main.copy(); print(f'первый список:{main}')\n",
    "\n",
    "second = [i for i in main]; print(f'второй список: {second}')\n",
    "\n",
    "third = first + second; print(f'первый + второй список: {third}')"
   ]
  },
  {
   "cell_type": "code",
   "execution_count": null,
   "id": "5b479093",
   "metadata": {},
   "outputs": [],
   "source": [
    "#2\n",
    "\n",
    "a = input()\n",
    "\n",
    "print(list(a))\n",
    "\n",
    "print(a.split())\n",
    "\n",
    "print([i for i in a if i.isdigit()])"
   ]
  },
  {
   "cell_type": "code",
   "execution_count": null,
   "id": "f33b89f4",
   "metadata": {},
   "outputs": [],
   "source": [
    "#3\n",
    "a = input().split()\n",
    "if a[-1].isdigit(): a[-1] = int(a[-1])\n",
    "\n",
    "b = []\n",
    "\n",
    "if a[-2] == 'repeat' and str(a[-1]).isdigit():\n",
    "    for _ in range(a[-1]):\n",
    "        b.extend(a[:-2])\n",
    "\n",
    "    b.append(a[-2]); b.append(a[-1])\n",
    "    print(b)"
   ]
  },
  {
   "cell_type": "code",
   "execution_count": null,
   "id": "92972bbf",
   "metadata": {},
   "outputs": [],
   "source": [
    "#5.1/5.2\n",
    "print('Enter two integers')\n",
    "\n",
    "max_val = int(input())\n",
    "repeat = int(input())\n",
    "a, b, c = [], [], []\n",
    "\n",
    "for i in range(repeat):\n",
    "    for j in range(1, max_val + 1):\n",
    "        a.append(j)\n",
    "print(f'5.1 solve: {a}')\n",
    "\n",
    "if max_val == 10:\n",
    "    print()\n",
    "    left = repeat\n",
    "    right = - repeat\n",
    "    b.extend(a[:left]); b.extend(a[right:])\n",
    "    c.extend(a[left:right])\n",
    "    print(f'5.2 solve:\\nbegin and end of list: {b}\\nmiddle of list: {[i * 10 for i in c]}')"
   ]
  },
  {
   "cell_type": "code",
   "execution_count": null,
   "id": "888ff8ea",
   "metadata": {},
   "outputs": [],
   "source": [
    "#8\n",
    "a = input().split()\n",
    "b = input().split()\n",
    "c = []\n",
    "\n",
    "for i in range(len(a)):\n",
    "    c.append(a[i])\n",
    "    c.append(b[i])\n",
    "print(c)"
   ]
  },
  {
   "cell_type": "code",
   "execution_count": null,
   "id": "e45e2e95",
   "metadata": {},
   "outputs": [],
   "source": [
    "#9\n",
    "a = input().split()\n",
    "b = input().split()\n",
    "c = list(zip(a, b))\n",
    "\n",
    "for i in range(len(c)):\n",
    "    print(*c[i], end = ' ')"
   ]
  },
  {
   "cell_type": "code",
   "execution_count": null,
   "id": "472edca6",
   "metadata": {},
   "outputs": [],
   "source": [
    "#10\n",
    "a = input().split()\n",
    "\n",
    "n = int(input())\n",
    "\n",
    "b = a[: n]\n",
    "\n",
    "a = a[n:]; a.extend(b); print(*a)"
   ]
  },
  {
   "cell_type": "code",
   "execution_count": null,
   "id": "d8d51b6d",
   "metadata": {},
   "outputs": [],
   "source": [
    "#17\n",
    "print(sorted(input().split()))"
   ]
  }
 ],
 "metadata": {
  "kernelspec": {
   "display_name": "Python 3 (ipykernel)",
   "language": "python",
   "name": "python3"
  },
  "language_info": {
   "codemirror_mode": {
    "name": "ipython",
    "version": 3
   },
   "file_extension": ".py",
   "mimetype": "text/x-python",
   "name": "python",
   "nbconvert_exporter": "python",
   "pygments_lexer": "ipython3",
   "version": "3.11.4"
  }
 },
 "nbformat": 4,
 "nbformat_minor": 5
}
