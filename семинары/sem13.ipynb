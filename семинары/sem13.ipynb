{
  "cells": [
    {
      "cell_type": "markdown",
      "id": "97127675",
      "metadata": {
        "id": "97127675"
      },
      "source": [
        "1) Реализовать простейший динамический массив, поддерживающий добавление элемента в конец массива при помощи метода append(e).\n",
        "Также должны поддерживаться следующие операции:\n",
        "- извлечение элемента по индексу;\n",
        "- установка нового значения по индексу;\n",
        "- получение текущей длины массива."
      ]
    },
    {
      "cell_type": "code",
      "execution_count": 11,
      "id": "1e3a49f4",
      "metadata": {
        "id": "1e3a49f4"
      },
      "outputs": [],
      "source": [
        "class dynamicArray(object):\n",
        "    def __init__(self):\n",
        "        self.list = []\n",
        "\n",
        "    def append(self, i):\n",
        "        self.list.append(i)\n",
        "\n",
        "    def index(self, ind):\n",
        "        try:\n",
        "            return self.list[ind]\n",
        "        except IndexError:\n",
        "            print('Index out of range')\n",
        "\n",
        "    def new_value(self, ind, e):\n",
        "        try:\n",
        "            self.list[ind] = e\n",
        "        except IndexError:\n",
        "            print('Index out of range')\n",
        "\n",
        "    def length(self):\n",
        "        return len(self.list)"
      ]
    },
    {
      "cell_type": "code",
      "execution_count": 12,
      "id": "8db6a47e",
      "metadata": {
        "id": "8db6a47e"
      },
      "outputs": [],
      "source": [
        "arr = dynamicArray()"
      ]
    },
    {
      "cell_type": "code",
      "execution_count": 13,
      "id": "b7173424",
      "metadata": {
        "colab": {
          "base_uri": "https://localhost:8080/"
        },
        "id": "b7173424",
        "outputId": "efc985a7-9e9e-48c4-9238-49a04c92c766"
      },
      "outputs": [
        {
          "output_type": "execute_result",
          "data": {
            "text/plain": [
              "[5, 4, 3]"
            ]
          },
          "metadata": {},
          "execution_count": 13
        }
      ],
      "source": [
        "arr.append(5)\n",
        "arr.append(4)\n",
        "arr.append(3)\n",
        "arr.list"
      ]
    },
    {
      "cell_type": "code",
      "execution_count": 14,
      "id": "b025896b",
      "metadata": {
        "scrolled": true,
        "colab": {
          "base_uri": "https://localhost:8080/"
        },
        "id": "b025896b",
        "outputId": "89f15f47-ca4d-49f9-aaf6-0acd94fdf1a9"
      },
      "outputs": [
        {
          "output_type": "execute_result",
          "data": {
            "text/plain": [
              "4"
            ]
          },
          "metadata": {},
          "execution_count": 14
        }
      ],
      "source": [
        "arr.index(1)"
      ]
    },
    {
      "cell_type": "code",
      "execution_count": 15,
      "id": "8cbed454",
      "metadata": {
        "colab": {
          "base_uri": "https://localhost:8080/"
        },
        "id": "8cbed454",
        "outputId": "44d44615-4509-4636-fcef-a6559fe5565a"
      },
      "outputs": [
        {
          "output_type": "execute_result",
          "data": {
            "text/plain": [
              "[5, 4, 3]"
            ]
          },
          "metadata": {},
          "execution_count": 15
        }
      ],
      "source": [
        "arr.new_value(1, 4)\n",
        "arr.list"
      ]
    },
    {
      "cell_type": "code",
      "execution_count": 16,
      "id": "03963be4",
      "metadata": {
        "colab": {
          "base_uri": "https://localhost:8080/"
        },
        "id": "03963be4",
        "outputId": "8b1efc0d-cf33-4315-eadf-99c80c7cb167"
      },
      "outputs": [
        {
          "output_type": "execute_result",
          "data": {
            "text/plain": [
              "3"
            ]
          },
          "metadata": {},
          "execution_count": 16
        }
      ],
      "source": [
        "arr.length()"
      ]
    },
    {
      "cell_type": "markdown",
      "id": "60f11059",
      "metadata": {
        "id": "60f11059"
      },
      "source": [
        "1.1) Добавить реализацию удаления элемента из любого места массива и поддержку корректного вывода массива при помощи функции print."
      ]
    },
    {
      "cell_type": "code",
      "execution_count": 17,
      "id": "f60ae829",
      "metadata": {
        "id": "f60ae829"
      },
      "outputs": [],
      "source": [
        "class new_dynamic_array(dynamicArray):\n",
        "    def pop(self, ind):\n",
        "        self.list.pop(ind)\n",
        "\n",
        "    def prnt(self):\n",
        "        print(*self.list, sep = ', ')"
      ]
    },
    {
      "cell_type": "code",
      "execution_count": 19,
      "id": "5834828d",
      "metadata": {
        "id": "5834828d"
      },
      "outputs": [],
      "source": [
        "dyn_arr1 = new_dynamic_array()"
      ]
    },
    {
      "cell_type": "code",
      "execution_count": 20,
      "id": "a1950e09",
      "metadata": {
        "id": "a1950e09"
      },
      "outputs": [],
      "source": [
        "dyn_arr1.append(5)\n",
        "dyn_arr1.append(4)\n",
        "dyn_arr1.append(3)"
      ]
    },
    {
      "cell_type": "code",
      "execution_count": 21,
      "id": "c522dd4b",
      "metadata": {
        "colab": {
          "base_uri": "https://localhost:8080/"
        },
        "id": "c522dd4b",
        "outputId": "7c214b09-f0d6-4732-9964-d527af252753"
      },
      "outputs": [
        {
          "output_type": "stream",
          "name": "stdout",
          "text": [
            "5, 4, 3\n"
          ]
        }
      ],
      "source": [
        "dyn_arr1.prnt()"
      ]
    },
    {
      "cell_type": "code",
      "execution_count": 22,
      "id": "6e3f226a",
      "metadata": {
        "id": "6e3f226a"
      },
      "outputs": [],
      "source": [
        "dyn_arr1.pop(1)"
      ]
    },
    {
      "cell_type": "code",
      "execution_count": 23,
      "id": "ac25065c",
      "metadata": {
        "colab": {
          "base_uri": "https://localhost:8080/"
        },
        "id": "ac25065c",
        "outputId": "a0368486-db7b-4531-b011-7537e175f622"
      },
      "outputs": [
        {
          "output_type": "stream",
          "name": "stdout",
          "text": [
            "5, 3\n"
          ]
        }
      ],
      "source": [
        "dyn_arr1.prnt()"
      ]
    },
    {
      "cell_type": "markdown",
      "id": "22853d63",
      "metadata": {
        "id": "22853d63"
      },
      "source": [
        "2) Реализовать генератор, который возвращает значение поочередно извлекаемое из конца двух очередей (в качестве очереди используется deque из collections). Если очередь из которой извлекается элемент пуста - генератор заканчивает работу."
      ]
    },
    {
      "cell_type": "markdown",
      "id": "92342018",
      "metadata": {
        "id": "92342018"
      },
      "source": [
        "Deque (double-ended queue) в Python представляет собой структуру данных, которая представляет из себя коллекцию элементов, похожую на список, но с возможностью быстрого добавления и удаления элементов как в начале, так и в конце коллекции. Он может быть использован для реализации очереди или стека.\n"
      ]
    },
    {
      "cell_type": "code",
      "execution_count": 45,
      "id": "a9ee3a5c",
      "metadata": {
        "id": "a9ee3a5c"
      },
      "outputs": [],
      "source": [
        "from collections import deque\n",
        "\n",
        "class generator(object):\n",
        "    def __init__(self):\n",
        "        self.deq = deque()\n",
        "\n",
        "    def append(self, e):  # в конец\n",
        "        self.deq.append(e)\n",
        "\n",
        "    def appendleft(self, e):  #в начало\n",
        "        self.deq.appendleft(e)\n",
        "\n",
        "    def generator(d1,d2):\n",
        "        try:\n",
        "            return [(d1.deq.pop(),d2.deq.pop()) for i in range(len(d1.deq)-1,-1,-1)]\n",
        "        except IndexError:\n",
        "            print()"
      ]
    },
    {
      "cell_type": "code",
      "execution_count": 46,
      "id": "dd786e89",
      "metadata": {
        "id": "dd786e89"
      },
      "outputs": [],
      "source": [
        "d1 = generator()\n",
        "d2 = generator()"
      ]
    },
    {
      "cell_type": "code",
      "execution_count": 47,
      "id": "cfb54ea9",
      "metadata": {
        "colab": {
          "base_uri": "https://localhost:8080/"
        },
        "id": "cfb54ea9",
        "outputId": "a46199d8-7d76-4934-ab1d-7659b90407cf"
      },
      "outputs": [
        {
          "output_type": "execute_result",
          "data": {
            "text/plain": [
              "deque([0, 1, 2])"
            ]
          },
          "metadata": {},
          "execution_count": 47
        }
      ],
      "source": [
        "d1.append(1)\n",
        "d1.append(2)\n",
        "d1.appendleft(0)\n",
        "d1.deq"
      ]
    },
    {
      "cell_type": "code",
      "execution_count": 48,
      "id": "dcaa8698",
      "metadata": {
        "colab": {
          "base_uri": "https://localhost:8080/"
        },
        "id": "dcaa8698",
        "outputId": "c9e6a4e5-8d7f-4319-c521-0e1e0e007ae9"
      },
      "outputs": [
        {
          "output_type": "execute_result",
          "data": {
            "text/plain": [
              "deque([5, 6, 7])"
            ]
          },
          "metadata": {},
          "execution_count": 48
        }
      ],
      "source": [
        "d2.append(6)\n",
        "d2.append(7)\n",
        "d2.appendleft(5)\n",
        "d2.deq"
      ]
    },
    {
      "cell_type": "code",
      "execution_count": 49,
      "id": "6e108e5c",
      "metadata": {
        "colab": {
          "base_uri": "https://localhost:8080/"
        },
        "id": "6e108e5c",
        "outputId": "e6d2247f-2591-470a-dae5-0f004f4f52d6"
      },
      "outputs": [
        {
          "output_type": "execute_result",
          "data": {
            "text/plain": [
              "[(2, 7), (1, 6), (0, 5)]"
            ]
          },
          "metadata": {},
          "execution_count": 49
        }
      ],
      "source": [
        "generator.generator(d1,d2)"
      ]
    },
    {
      "cell_type": "code",
      "execution_count": 50,
      "id": "2232f4b5",
      "metadata": {
        "id": "2232f4b5"
      },
      "outputs": [],
      "source": [
        "d3 = generator()\n",
        "d4 = generator()"
      ]
    },
    {
      "cell_type": "code",
      "execution_count": 66,
      "id": "cb054774",
      "metadata": {
        "id": "cb054774"
      },
      "outputs": [],
      "source": [
        "d3.append(3)\n",
        "d3.append(2)\n",
        "d3.appendleft(4)\n",
        "d4.append(8)\n",
        "d4.append(7)\n",
        "d4.appendleft(9)"
      ]
    },
    {
      "cell_type": "code",
      "execution_count": 67,
      "id": "58df4fab",
      "metadata": {
        "colab": {
          "base_uri": "https://localhost:8080/"
        },
        "id": "58df4fab",
        "outputId": "cf86aa41-1bab-40d6-85a8-be9a424357ef"
      },
      "outputs": [
        {
          "output_type": "execute_result",
          "data": {
            "text/plain": [
              "[(2, 7), (3, 8), (4, 9)]"
            ]
          },
          "metadata": {},
          "execution_count": 67
        }
      ],
      "source": [
        "G = generator.generator(d3,d4)\n",
        "G"
      ]
    },
    {
      "cell_type": "markdown",
      "id": "e54912d9",
      "metadata": {
        "id": "e54912d9"
      },
      "source": [
        "3) Реализовать классы с медодом action():\n",
        "- а) Класс Pump - в методе action() извлекает очередное значение из генератора и помещает значение в очередь (очередь передается в конструктор)."
      ]
    },
    {
      "cell_type": "code",
      "execution_count": 68,
      "id": "b3cd396f",
      "metadata": {
        "id": "b3cd396f"
      },
      "outputs": [],
      "source": [
        "class Queue(object):\n",
        "    def __init__(self):\n",
        "        self.que = []\n",
        "\n",
        "    def is_empty(self):\n",
        "        return len(self.que) == 0\n",
        "\n",
        "    def append(self, e):\n",
        "        self.que.append(e)\n",
        "\n",
        "    def pop(self):\n",
        "        if not self.que.is_empty():\n",
        "            self.que.pop(0)\n",
        "        else:\n",
        "            return None"
      ]
    },
    {
      "cell_type": "code",
      "execution_count": 69,
      "id": "27cfc519",
      "metadata": {
        "id": "27cfc519"
      },
      "outputs": [],
      "source": [
        "from queue import Queue\n",
        "\n",
        "class Pump(object):\n",
        "    def __init__(self, generator):\n",
        "        self.generator = generator\n",
        "        self.que = Queue()\n",
        "        self.index = 0\n",
        "\n",
        "    def action(self):\n",
        "        value = self.generator[self.index]\n",
        "        self.que.put(value)\n",
        "        print(list(self.que.queue))\n",
        "        self.index += 1\n",
        "        self.que.get(value)"
      ]
    },
    {
      "cell_type": "code",
      "execution_count": 70,
      "id": "7bc303a9",
      "metadata": {
        "id": "7bc303a9"
      },
      "outputs": [],
      "source": [
        "p1 = Pump(G)"
      ]
    },
    {
      "cell_type": "code",
      "execution_count": 71,
      "id": "a4ad846e",
      "metadata": {
        "colab": {
          "base_uri": "https://localhost:8080/"
        },
        "id": "a4ad846e",
        "outputId": "13680b5a-2670-427e-ba26-0a1d2241ad5d"
      },
      "outputs": [
        {
          "output_type": "stream",
          "name": "stdout",
          "text": [
            "[(2, 7)]\n"
          ]
        }
      ],
      "source": [
        "p1.action()"
      ]
    },
    {
      "cell_type": "code",
      "execution_count": 72,
      "id": "6645c39e",
      "metadata": {
        "scrolled": true,
        "colab": {
          "base_uri": "https://localhost:8080/"
        },
        "id": "6645c39e",
        "outputId": "8e66bf79-9458-424d-9e40-55ece79d7f76"
      },
      "outputs": [
        {
          "output_type": "stream",
          "name": "stdout",
          "text": [
            "[(3, 8)]\n"
          ]
        }
      ],
      "source": [
        "p1.action()"
      ]
    },
    {
      "cell_type": "markdown",
      "id": "d5d95d48",
      "metadata": {
        "id": "d5d95d48"
      },
      "source": [
        "- b) Класс MultiAction - при вызове метода action() n раз вызвает метод action() класса, переданного в конструкторе. Число n также определяется в конструкторе.\n"
      ]
    },
    {
      "cell_type": "code",
      "execution_count": 73,
      "id": "a383be59",
      "metadata": {
        "id": "a383be59"
      },
      "outputs": [],
      "source": [
        "class MultiAction(object):\n",
        "    def __init__(self, cls, n):\n",
        "        self.cls = cls\n",
        "        self.n = n\n",
        "        self.l = []\n",
        "\n",
        "    def action(self, G=None):\n",
        "        c = self.cls(G)\n",
        "        for i in range(self.n):\n",
        "            self.l.append(c.action())\n",
        "        return self.l"
      ]
    },
    {
      "cell_type": "code",
      "execution_count": 74,
      "id": "0947eb94",
      "metadata": {
        "id": "0947eb94"
      },
      "outputs": [],
      "source": [
        "p2 = MultiAction(Pump, 2)"
      ]
    },
    {
      "cell_type": "code",
      "execution_count": 75,
      "id": "a3275522",
      "metadata": {
        "scrolled": true,
        "colab": {
          "base_uri": "https://localhost:8080/"
        },
        "id": "a3275522",
        "outputId": "e698abd5-8e34-4404-de96-d4c1a67f3ad9"
      },
      "outputs": [
        {
          "output_type": "stream",
          "name": "stdout",
          "text": [
            "[(2, 7)]\n",
            "[(3, 8)]\n"
          ]
        },
        {
          "output_type": "execute_result",
          "data": {
            "text/plain": [
              "[None, None]"
            ]
          },
          "metadata": {},
          "execution_count": 75
        }
      ],
      "source": [
        "p2.action(G)"
      ]
    },
    {
      "cell_type": "markdown",
      "id": "ff9c2bd0",
      "metadata": {
        "id": "ff9c2bd0"
      },
      "source": [
        "- c) Класс MultiPump - в методе action() извлекает очередное значение из генератора и помещает значение в одну из очередей (очереди передается в конструкторе); очереди , в которые помещаются очередные значения, меняются по порядку."
      ]
    },
    {
      "cell_type": "code",
      "execution_count": 76,
      "id": "c1e5b01a",
      "metadata": {
        "id": "c1e5b01a"
      },
      "outputs": [],
      "source": [
        "from typing import List\n",
        "\n",
        "class MultiPump:\n",
        "    def __init__(self, queues: List[List]):\n",
        "        self.queues = queues\n",
        "        self.current_queue_index = 0\n",
        "\n",
        "    def action(self, generator):\n",
        "        try:\n",
        "            value = next(generator)\n",
        "            current_queue = self.queues[self.current_queue_index]\n",
        "            current_queue.append(value)\n",
        "            self.current_queue_index = (self.current_queue_index + 1) % len(self.queues)\n",
        "        except StopIteration:\n",
        "            pass"
      ]
    },
    {
      "cell_type": "code",
      "execution_count": 77,
      "id": "0101d1fd",
      "metadata": {
        "id": "0101d1fd"
      },
      "outputs": [],
      "source": [
        "queues = [[], [], []]\n",
        "multi_pump = MultiPump(queues)"
      ]
    },
    {
      "cell_type": "code",
      "execution_count": 78,
      "id": "fbb2a7de",
      "metadata": {
        "colab": {
          "base_uri": "https://localhost:8080/"
        },
        "id": "fbb2a7de",
        "outputId": "0deef997-3ea9-4a46-ede4-88e1ffbba265"
      },
      "outputs": [
        {
          "output_type": "stream",
          "name": "stdout",
          "text": [
            "[(2, 7), (3, 8), (4, 9)]\n",
            "[[(2, 7)], [(3, 8)], [(4, 9)]]\n"
          ]
        }
      ],
      "source": [
        "print(G)\n",
        "G1 = iter(G)\n",
        "for _ in range(len(G)):\n",
        "    multi_pump.action(G1)\n",
        "print(queues)"
      ]
    }
  ],
  "metadata": {
    "kernelspec": {
      "display_name": "Python 3 (ipykernel)",
      "language": "python",
      "name": "python3"
    },
    "language_info": {
      "codemirror_mode": {
        "name": "ipython",
        "version": 3
      },
      "file_extension": ".py",
      "mimetype": "text/x-python",
      "name": "python",
      "nbconvert_exporter": "python",
      "pygments_lexer": "ipython3",
      "version": "3.11.4"
    },
    "colab": {
      "provenance": []
    }
  },
  "nbformat": 4,
  "nbformat_minor": 5
}