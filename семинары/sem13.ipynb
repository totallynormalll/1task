{
 "cells": [
  {
   "cell_type": "markdown",
   "id": "97127675",
   "metadata": {},
   "source": [
    "1) Реализовать простейший динамический массив, поддерживающий добавление элемента в конец массива при помощи метода append(e).\n",
    "Также должны поддерживаться следующие операции:\n",
    "- извлечение элемента по индексу;\n",
    "- установка нового значения по индексу;\n",
    "- получение текущей длины массива."
   ]
  },
  {
   "cell_type": "code",
   "execution_count": 450,
   "id": "1e3a49f4",
   "metadata": {},
   "outputs": [],
   "source": [
    "class DynamicArray(object):\n",
    "    def __init__(self):\n",
    "        self.list = []\n",
    "        \n",
    "    def append(self, e):\n",
    "        self.list.append(e)\n",
    "        \n",
    "    def index(self, ind):\n",
    "        try:\n",
    "            return self.list[ind]\n",
    "        except IndexError:\n",
    "            print('Index out of range')\n",
    "            \n",
    "    def new_value(self, ind, e):\n",
    "        try:\n",
    "            self.list[ind] = e\n",
    "        except IndexError:\n",
    "            print('Index out of range')\n",
    "            \n",
    "    def length(self):\n",
    "        return len(self.list)"
   ]
  },
  {
   "cell_type": "code",
   "execution_count": 451,
   "id": "8db6a47e",
   "metadata": {},
   "outputs": [],
   "source": [
    "dyn_arr = DynamicArray()"
   ]
  },
  {
   "cell_type": "code",
   "execution_count": 452,
   "id": "b7173424",
   "metadata": {},
   "outputs": [
    {
     "data": {
      "text/plain": [
       "[1, 2, 3]"
      ]
     },
     "execution_count": 452,
     "metadata": {},
     "output_type": "execute_result"
    }
   ],
   "source": [
    "dyn_arr.append(1)\n",
    "dyn_arr.append(2)\n",
    "dyn_arr.append(3)\n",
    "dyn_arr.list"
   ]
  },
  {
   "cell_type": "code",
   "execution_count": 453,
   "id": "b025896b",
   "metadata": {
    "scrolled": true
   },
   "outputs": [
    {
     "data": {
      "text/plain": [
       "2"
      ]
     },
     "execution_count": 453,
     "metadata": {},
     "output_type": "execute_result"
    }
   ],
   "source": [
    "dyn_arr.index(1)"
   ]
  },
  {
   "cell_type": "code",
   "execution_count": 454,
   "id": "8cbed454",
   "metadata": {},
   "outputs": [
    {
     "data": {
      "text/plain": [
       "[1, 4, 3]"
      ]
     },
     "execution_count": 454,
     "metadata": {},
     "output_type": "execute_result"
    }
   ],
   "source": [
    "dyn_arr.new_value(1, 4)\n",
    "dyn_arr.list"
   ]
  },
  {
   "cell_type": "code",
   "execution_count": 455,
   "id": "03963be4",
   "metadata": {},
   "outputs": [
    {
     "data": {
      "text/plain": [
       "3"
      ]
     },
     "execution_count": 455,
     "metadata": {},
     "output_type": "execute_result"
    }
   ],
   "source": [
    "dyn_arr.length()"
   ]
  },
  {
   "cell_type": "markdown",
   "id": "60f11059",
   "metadata": {},
   "source": [
    "1.1) Добавить реализацию удаления элемента из любого места массива и поддержку корректного вывода массива при помощи функции print."
   ]
  },
  {
   "cell_type": "code",
   "execution_count": 440,
   "id": "f60ae829",
   "metadata": {},
   "outputs": [],
   "source": [
    "class DynamicArray1(DynamicArray):\n",
    "    def pop(self, ind):\n",
    "        self.list.pop(ind)\n",
    "        \n",
    "    def prnt(self):\n",
    "        print(*self.list, sep = ', ')"
   ]
  },
  {
   "cell_type": "code",
   "execution_count": 442,
   "id": "5834828d",
   "metadata": {},
   "outputs": [],
   "source": [
    "dyn_arr1 = DynamicArray1()"
   ]
  },
  {
   "cell_type": "code",
   "execution_count": 443,
   "id": "a1950e09",
   "metadata": {},
   "outputs": [],
   "source": [
    "dyn_arr1.append(1)\n",
    "dyn_arr1.append(2)\n",
    "dyn_arr1.append(3)"
   ]
  },
  {
   "cell_type": "code",
   "execution_count": 444,
   "id": "c522dd4b",
   "metadata": {},
   "outputs": [
    {
     "name": "stdout",
     "output_type": "stream",
     "text": [
      "1, 2, 3\n"
     ]
    }
   ],
   "source": [
    "dyn_arr1.prnt()"
   ]
  },
  {
   "cell_type": "code",
   "execution_count": 445,
   "id": "6e3f226a",
   "metadata": {},
   "outputs": [],
   "source": [
    "dyn_arr1.pop(1)"
   ]
  },
  {
   "cell_type": "code",
   "execution_count": 446,
   "id": "ac25065c",
   "metadata": {},
   "outputs": [
    {
     "name": "stdout",
     "output_type": "stream",
     "text": [
      "1, 3\n"
     ]
    }
   ],
   "source": [
    "dyn_arr1.prnt()"
   ]
  },
  {
   "cell_type": "markdown",
   "id": "22853d63",
   "metadata": {},
   "source": [
    "2) Реализовать генератор, который возвращает значение поочередно извлекаемое из конца двух очередей (в качестве очереди используется deque из collections). Если очередь из которой извлекается элемент пуста - генератор заканчивает работу."
   ]
  },
  {
   "cell_type": "markdown",
   "id": "92342018",
   "metadata": {},
   "source": [
    "Deque (double-ended queue) в Python представляет собой структуру данных, которая представляет из себя коллекцию элементов, похожую на список, но с возможностью быстрого добавления и удаления элементов как в начале, так и в конце коллекции. Он может быть использован для реализации очереди или стека.\n"
   ]
  },
  {
   "cell_type": "code",
   "execution_count": 460,
   "id": "a9ee3a5c",
   "metadata": {},
   "outputs": [],
   "source": [
    "from collections import deque\n",
    "\n",
    "class Generator(object):\n",
    "    def __init__(self):\n",
    "        self.deq = deque()\n",
    "    \n",
    "    def append(self, e):  # Добавление элемента в конец\n",
    "        self.deq.append(e)\n",
    "        \n",
    "    def appendleft(self, e):  # Добавление элемента в начало\n",
    "        self.deq.appendleft(e)\n",
    "    \n",
    "    @staticmethod\n",
    "    def generator(d1,d2):\n",
    "        try:\n",
    "            return [(d1.deq.pop(),d2.deq.pop()) for i in range(len(d1.deq)-1,-1,-1)]\n",
    "        except IndexError:\n",
    "            print()"
   ]
  },
  {
   "cell_type": "code",
   "execution_count": 461,
   "id": "dd786e89",
   "metadata": {},
   "outputs": [],
   "source": [
    "d1 = Generator()\n",
    "d2 = Generator()"
   ]
  },
  {
   "cell_type": "code",
   "execution_count": 462,
   "id": "cfb54ea9",
   "metadata": {},
   "outputs": [
    {
     "data": {
      "text/plain": [
       "deque([0, 1, 2, 3, 4])"
      ]
     },
     "execution_count": 462,
     "metadata": {},
     "output_type": "execute_result"
    }
   ],
   "source": [
    "d1.append(1)\n",
    "d1.append(2)\n",
    "d1.append(3)\n",
    "d1.append(4)\n",
    "d1.appendleft(0)\n",
    "d1.deq"
   ]
  },
  {
   "cell_type": "code",
   "execution_count": 463,
   "id": "dcaa8698",
   "metadata": {},
   "outputs": [
    {
     "data": {
      "text/plain": [
       "deque([5, 6, 7, 8, 9])"
      ]
     },
     "execution_count": 463,
     "metadata": {},
     "output_type": "execute_result"
    }
   ],
   "source": [
    "d2.append(6)\n",
    "d2.append(7)\n",
    "d2.append(8)\n",
    "d2.append(9)\n",
    "d2.appendleft(5)\n",
    "d2.deq"
   ]
  },
  {
   "cell_type": "code",
   "execution_count": 464,
   "id": "6e108e5c",
   "metadata": {},
   "outputs": [
    {
     "data": {
      "text/plain": [
       "[(4, 9), (3, 8), (2, 7), (1, 6), (0, 5)]"
      ]
     },
     "execution_count": 464,
     "metadata": {},
     "output_type": "execute_result"
    }
   ],
   "source": [
    "Generator.generator(d1,d2)"
   ]
  },
  {
   "cell_type": "code",
   "execution_count": 365,
   "id": "2232f4b5",
   "metadata": {},
   "outputs": [],
   "source": [
    "d3 = Generator()\n",
    "d4 = Generator()"
   ]
  },
  {
   "cell_type": "code",
   "execution_count": 366,
   "id": "cb054774",
   "metadata": {},
   "outputs": [],
   "source": [
    "d3.append(3)\n",
    "d3.append(2)\n",
    "d3.append(1)\n",
    "d3.append(0)\n",
    "d3.appendleft(4)\n",
    "d4.append(8)\n",
    "d4.append(7)\n",
    "d4.append(6)\n",
    "d4.append(5)\n",
    "d4.appendleft(9)"
   ]
  },
  {
   "cell_type": "code",
   "execution_count": 367,
   "id": "58df4fab",
   "metadata": {},
   "outputs": [
    {
     "data": {
      "text/plain": [
       "[(0, 5), (1, 6), (2, 7), (3, 8), (4, 9)]"
      ]
     },
     "execution_count": 367,
     "metadata": {},
     "output_type": "execute_result"
    }
   ],
   "source": [
    "G = Generator.generator(d3,d4)\n",
    "G"
   ]
  },
  {
   "cell_type": "markdown",
   "id": "e54912d9",
   "metadata": {},
   "source": [
    "3) Реализовать классы с медодом action():\n",
    "- а) Класс Pump - в методе action() извлекает очередное значение из генератора и помещает значение в очередь (очередь передается в конструктор)."
   ]
  },
  {
   "cell_type": "code",
   "execution_count": 402,
   "id": "b3cd396f",
   "metadata": {},
   "outputs": [],
   "source": [
    "class Queue(object):\n",
    "    def __init__(self):\n",
    "        self.que = []\n",
    "        \n",
    "    def is_empty(self):\n",
    "        return len(self.que) == 0\n",
    "    \n",
    "    def append(self, e):\n",
    "        self.que.append(e)\n",
    "        \n",
    "    def pop(self):\n",
    "        if not self.que.is_empty():\n",
    "            self.que.pop(0)\n",
    "        else:\n",
    "            return None"
   ]
  },
  {
   "cell_type": "code",
   "execution_count": 465,
   "id": "27cfc519",
   "metadata": {},
   "outputs": [],
   "source": [
    "from queue import Queue\n",
    "\n",
    "class Pump(object):\n",
    "    def __init__(self, generator):\n",
    "        self.generator = generator\n",
    "        self.que = Queue()\n",
    "        self.index = 0\n",
    "\n",
    "    def action(self):\n",
    "        value = self.generator[self.index]\n",
    "        self.que.put(value)\n",
    "        print(list(self.que.queue))\n",
    "        self.index += 1\n",
    "        self.que.get(value)\n",
    "# queue - методот класса Queue, возвращающий внутренний список элементов очереди"
   ]
  },
  {
   "cell_type": "code",
   "execution_count": 466,
   "id": "7bc303a9",
   "metadata": {},
   "outputs": [],
   "source": [
    "p1 = Pump(G)"
   ]
  },
  {
   "cell_type": "code",
   "execution_count": 467,
   "id": "a4ad846e",
   "metadata": {},
   "outputs": [
    {
     "name": "stdout",
     "output_type": "stream",
     "text": [
      "[(0, 5)]\n"
     ]
    }
   ],
   "source": [
    "p1.action()"
   ]
  },
  {
   "cell_type": "code",
   "execution_count": 468,
   "id": "6645c39e",
   "metadata": {
    "scrolled": true
   },
   "outputs": [
    {
     "name": "stdout",
     "output_type": "stream",
     "text": [
      "[(1, 6)]\n"
     ]
    }
   ],
   "source": [
    "p1.action()"
   ]
  },
  {
   "cell_type": "markdown",
   "id": "d5d95d48",
   "metadata": {},
   "source": [
    "- b) Класс MultiAction - при вызове метода action() n раз вызвает метод action() класса, переданного в конструкторе. Число n также определяется в конструкторе.\n"
   ]
  },
  {
   "cell_type": "code",
   "execution_count": 469,
   "id": "a383be59",
   "metadata": {},
   "outputs": [],
   "source": [
    "class MultiAction(object):\n",
    "    def __init__(self, cls, n):\n",
    "        self.cls = cls\n",
    "        self.n = n\n",
    "        self.l = []\n",
    "        \n",
    "    def action(self, G=None):\n",
    "        c = self.cls(G)\n",
    "        for i in range(self.n):\n",
    "            self.l.append(c.action())\n",
    "        return self.l"
   ]
  },
  {
   "cell_type": "code",
   "execution_count": 470,
   "id": "0947eb94",
   "metadata": {},
   "outputs": [],
   "source": [
    "p2 = MultiAction(Pump, 2)"
   ]
  },
  {
   "cell_type": "code",
   "execution_count": 471,
   "id": "a3275522",
   "metadata": {
    "scrolled": true
   },
   "outputs": [
    {
     "name": "stdout",
     "output_type": "stream",
     "text": [
      "[(0, 5)]\n",
      "[(1, 6)]\n"
     ]
    },
    {
     "data": {
      "text/plain": [
       "[None, None]"
      ]
     },
     "execution_count": 471,
     "metadata": {},
     "output_type": "execute_result"
    }
   ],
   "source": [
    "p2.action(G)"
   ]
  },
  {
   "cell_type": "markdown",
   "id": "ff9c2bd0",
   "metadata": {},
   "source": [
    "- c) Класс MultiPump - в методе action() извлекает очередное значение из генератора и помещает значение в одну из очередей (очереди передается в конструкторе); очереди , в которые помещаются очередные значения, меняются по порядку."
   ]
  },
  {
   "cell_type": "code",
   "execution_count": 472,
   "id": "c1e5b01a",
   "metadata": {},
   "outputs": [],
   "source": [
    "from typing import List\n",
    "\n",
    "class MultiPump:\n",
    "    def __init__(self, queues: List[List]):\n",
    "        self.queues = queues\n",
    "        self.current_queue_index = 0\n",
    "\n",
    "    def action(self, generator):\n",
    "        try:\n",
    "            value = next(generator)\n",
    "            current_queue = self.queues[self.current_queue_index]\n",
    "            current_queue.append(value)\n",
    "            self.current_queue_index = (self.current_queue_index + 1) % len(self.queues)\n",
    "        except StopIteration:\n",
    "            pass"
   ]
  },
  {
   "cell_type": "code",
   "execution_count": 473,
   "id": "0101d1fd",
   "metadata": {},
   "outputs": [],
   "source": [
    "queues = [[], [], []] \n",
    "multi_pump = MultiPump(queues)"
   ]
  },
  {
   "cell_type": "code",
   "execution_count": 474,
   "id": "fbb2a7de",
   "metadata": {},
   "outputs": [
    {
     "name": "stdout",
     "output_type": "stream",
     "text": [
      "[(0, 5), (1, 6), (2, 7), (3, 8), (4, 9)]\n",
      "[[(0, 5), (3, 8)], [(1, 6), (4, 9)], [(2, 7)]]\n"
     ]
    }
   ],
   "source": [
    "print(G)\n",
    "G1 = iter(G)\n",
    "for _ in range(len(G)):\n",
    "    multi_pump.action(G1)\n",
    "print(queues) "
   ]
  },
  {
   "cell_type": "markdown",
   "id": "e5b04a55",
   "metadata": {},
   "source": [
    "4) При помощи GenFromQ, Pump реализовать систему опработки сообщений. Сообщения создаются генератором сообщений возвращающим случайным образорм одно из сообщений. Сообщения из трех генераторов закачиваются в три очереди при помощи классов Pump, далее при помощи GenFromQ и Pump объединяются в одну очередь и выводятся на экран (можно реализовать при помощи класса с action и вызываемого при помощи MultiPump)."
   ]
  },
  {
   "cell_type": "code",
   "execution_count": null,
   "id": "d50d5879",
   "metadata": {},
   "outputs": [],
   "source": [
    "class GenFromQ(object):\n",
    "    def init(self, generators):\n",
    "        self.generators = generators\n",
    "        self.que = Queue()\n",
    "\n",
    "    def action(self):\n",
    "        for generator in self.generators:\n",
    "            pump = Pump(generator)\n",
    "            pump.action()\n",
    "            while not pump.que.empty():\n",
    "                value = pump.que.get()\n",
    "                self.que.put(value)\n",
    "            \n",
    "class MultiPump(object):\n",
    "    def init(self, genfromq):\n",
    "        self.genfromq = genfromq\n",
    "\n",
    "    def action(self):\n",
    "        while not self.genfromq.que.empty():\n",
    "            value = self.genfromq.que.get()\n",
    "            print(value)\n",
    "\n",
    "# Генераторы сообщений\n",
    "messagegenerator1 = ['Message 1.1', 'Message 1.2', 'Message 1.3']\n",
    "messagegenerator2 = 'Message 2.1', 'Message 2.2', 'Message 2.3'\n",
    "messagegenerator3 = ['Message 3.1', 'Message 3.2', 'Message 3.3']\n",
    "\n",
    "# Создаем экземпляр GenFromQ с тремя генераторами сообщений\n",
    "genfromq = GenFromQ([messagegenerator1, messagegenerator2, messagegenerator3])\n",
    "\n",
    "# Создаем экземпляр MultiPump для объединения всех сообщений и вывода на экран\n",
    "multipump = MultiPump(genfromq)\n",
    "\n",
    "# Вызываем метод action для объединения и вывода сообщений\n",
    "multipump.action()"
   ]
  }
 ],
 "metadata": {
  "kernelspec": {
   "display_name": "Python 3 (ipykernel)",
   "language": "python",
   "name": "python3"
  },
  "language_info": {
   "codemirror_mode": {
    "name": "ipython",
    "version": 3
   },
   "file_extension": ".py",
   "mimetype": "text/x-python",
   "name": "python",
   "nbconvert_exporter": "python",
   "pygments_lexer": "ipython3",
   "version": "3.11.4"
  }
 },
 "nbformat": 4,
 "nbformat_minor": 5
}
