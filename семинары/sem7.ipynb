{
 "cells": [
  {
   "cell_type": "code",
   "execution_count": null,
   "id": "485148a2",
   "metadata": {},
   "outputs": [],
   "source": [
    "#1\n",
    "a = input()\n",
    "dct = {}\n",
    "for i in range(len(a)):\n",
    "    dct[i+1] = a[i]\n",
    "print(dct)"
   ]
  },
  {
   "cell_type": "code",
   "execution_count": null,
   "id": "2d507b3b",
   "metadata": {},
   "outputs": [],
   "source": [
    "#2\n",
    "dct = {1: 'яблоки', 2: 'бананы', 3: 'груши'}\n",
    "lst = ['груши', 'яблоки']\n",
    "res = []\n",
    "\n",
    "for c in lst:\n",
    "    for i, j in dct.items():\n",
    "        if c ==  j:\n",
    "            res.append(c)\n",
    "\n",
    "print(*res)"
   ]
  },
  {
   "cell_type": "code",
   "execution_count": null,
   "id": "7ccdba50",
   "metadata": {},
   "outputs": [],
   "source": [
    "#3\n",
    "a = 'evgene_o'\n",
    "\n",
    "dct = {i:a.count(i) for i in list(a)}\n",
    "\n",
    "print(dct)"
   ]
  },
  {
   "cell_type": "code",
   "execution_count": null,
   "id": "c35e275f",
   "metadata": {},
   "outputs": [],
   "source": [
    "#4\n",
    "a = []\n",
    "while True:\n",
    "    print('Введите значение: ')\n",
    "    b = input().split(',')\n",
    "\n",
    "    for i in b:\n",
    "        if i in a:\n",
    "            print(f'значение {i} уже есть')\n",
    "\n",
    "\n",
    "    for i in b:\n",
    "        if i not in a and i != '':\n",
    "            a.append(i)\n",
    "            if len(a) > 5:\n",
    "                print(f'был превышен лимит, извлечено: {a.pop(0)}')\n",
    "\n",
    "\n",
    "    if '' in b:\n",
    "        print(f'Содержимое мешка {a}')\n",
    "        break\n",
    "\n",
    "    print(a)"
   ]
  },
  {
   "cell_type": "code",
   "execution_count": null,
   "id": "50b383c2",
   "metadata": {},
   "outputs": [],
   "source": [
    "#5\n",
    "dict1 = {1: 'яблоки', 2: 'бананы', 3: 'груши'}\n",
    "dict2 = {'молоко': 1, 'яйца': 2}\n",
    "dict3 = {'продукты': 'творог', 'все для дома': 'мочалка'}\n",
    "dict4 = {}\n",
    "\n",
    "for i in dict1, dict2, dict3:\n",
    "    for key in i:\n",
    "        dict4[key] = i[key]\n",
    "\n",
    "print(dict4)"
   ]
  },
  {
   "cell_type": "code",
   "execution_count": null,
   "id": "9167196a",
   "metadata": {},
   "outputs": [],
   "source": [
    "#6\n",
    "dic4 = {'t': 1, 'd': 7}; a = 0; b = 1\n",
    "\n",
    "for key in dic4:\n",
    "    a += dic4.get(key)\n",
    "    b *= dic4.get(key)\n",
    "\n",
    "print(a); print(b)"
   ]
  },
  {
   "cell_type": "code",
   "execution_count": null,
   "id": "97c131b7",
   "metadata": {},
   "outputs": [],
   "source": [
    "#9\n",
    "dic5 = {1: 'яблоки', 2: 'бананы', 3: 'груши'}\n",
    "dic6 = {1: 'творог', 'все для дома': 'мочалка', 3:'макароны', 'уле':'еле'}\n",
    "dic7 = {}\n",
    "\n",
    "for i in dic6:\n",
    "    if i not in dic5:\n",
    "        dic7[i] = dic6.get(i)\n",
    "\n",
    "print(dic7)"
   ]
  }
 ],
 "metadata": {
  "kernelspec": {
   "display_name": "Python 3 (ipykernel)",
   "language": "python",
   "name": "python3"
  },
  "language_info": {
   "codemirror_mode": {
    "name": "ipython",
    "version": 3
   },
   "file_extension": ".py",
   "mimetype": "text/x-python",
   "name": "python",
   "nbconvert_exporter": "python",
   "pygments_lexer": "ipython3",
   "version": "3.11.4"
  }
 },
 "nbformat": 4,
 "nbformat_minor": 5
}
