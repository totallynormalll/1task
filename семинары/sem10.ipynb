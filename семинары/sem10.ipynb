{
 "cells": [
  {
   "cell_type": "code",
   "execution_count": null,
   "id": "1dacafbe",
   "metadata": {
    "scrolled": true
   },
   "outputs": [],
   "source": [
    "# 6.1.1\n",
    "l1 = iter([0,1,2,3,4,5])\n",
    "try:\n",
    "    while True:\n",
    "        print(next(l1))\n",
    "except StopIteration:\n",
    "    print('the list is overr')"
   ]
  },
  {
   "cell_type": "code",
   "execution_count": null,
   "id": "40b89a2c",
   "metadata": {},
   "outputs": [],
   "source": [
    "# 6.1.2\n",
    "def cathetus_2(c1,h):\n",
    "    try:\n",
    "        assert str(c1).isdigit() == True and str(h).isdigit() == True, 'invalid argument'\n",
    "        assert h > c1, 'cathetus must be less than hypotenuse'\n",
    "        c2 = (h**2 - c1**2)**0.5\n",
    "        print(c2)\n",
    "    except AssertionError as err:\n",
    "        print(err)\n",
    "cathetus_2(3,5)\n",
    "cathetus_2(5,3)\n",
    "cathetus_2(5,'abc')"
   ]
  },
  {
   "cell_type": "code",
   "execution_count": null,
   "id": "1b03ce61",
   "metadata": {},
   "outputs": [],
   "source": [
    "# 6.1.3\n",
    "def cathetus_2_():\n",
    "    try:\n",
    "        c1 = int(input('enter cathetus_1: '))\n",
    "        h = int(input('enter hypothesis: '))\n",
    "        assert h > c1, 'cathetus must be less than hypotenuse'\n",
    "        c2 = (h**2 - c1**2)**0.5\n",
    "        print(c2)\n",
    "    except AssertionError as err:\n",
    "        print(err)\n",
    "    except ValueError:\n",
    "        print('invalid argument')\n",
    "cathetus_2_()"
   ]
  },
  {
   "cell_type": "code",
   "execution_count": null,
   "id": "366df33d",
   "metadata": {
    "scrolled": true
   },
   "outputs": [],
   "source": [
    "# 6.1.4\n",
    "f1 = open('file_6.1.4', mode = 'w')\n",
    "f1.write('String1\\nString2')\n",
    "f1.close()\n",
    "s = input('enter file name: ')\n",
    "try:\n",
    "    with open(s, 'r') as f:\n",
    "        print(f.readline())\n",
    "except FileNotFoundError:\n",
    "    print('no such file exists')"
   ]
  },
  {
   "cell_type": "code",
   "execution_count": 188,
   "id": "4757eba4",
   "metadata": {},
   "outputs": [],
   "source": [
    "# 6.2.1\n",
    "def file():\n",
    "    name = input('enter file name: ')\n",
    "    try:\n",
    "        with open(name, 'w') as f:\n",
    "            while True:\n",
    "                sr = input('enter string: ')\n",
    "                if sr != '':\n",
    "                    f.write(sr)\n",
    "                    f.write('\\n')\n",
    "                else:\n",
    "                    break\n",
    "        with open(name, 'r') as f:\n",
    "            print(f.read())   \n",
    "    except FileExistsError:\n",
    "        print('such a file already exists')\n",
    "file()"
   ]
  },
  {
   "cell_type": "code",
   "execution_count": 190,
   "id": "3e3b58e4",
   "metadata": {},
   "outputs": [],
   "source": [
    "# 6.2.2\n",
    "f2 = open('file_6.2.2', mode = 'w')\n",
    "f2.write('File\\nstring1\\nstring2\\nstring3')\n",
    "f2.close()"
   ]
  },
  {
   "cell_type": "code",
   "execution_count": 191,
   "id": "d1191288",
   "metadata": {},
   "outputs": [],
   "source": [
    "def file_2(f, n=None):\n",
    "    with open(f,'r') as f:\n",
    "        if n == None:\n",
    "            print(f.read())\n",
    "        else:\n",
    "            for index,line in enumerate(f):\n",
    "                for i in range(n):\n",
    "                    if i == index:\n",
    "                        print(line)\n",
    "file_2('file_6.2.2')\n",
    "file_2('file_6.2.2', n=1)\n",
    "file_2('file_6.2.2', n=1)"
   ]
  },
  {
   "cell_type": "code",
   "execution_count": 2,
   "id": "1ec78cfc",
   "metadata": {},
   "outputs": [],
   "source": [
    "# 6.2.3\n",
    "f3 = open('file_6.2.3', mode = 'w')\n",
    "f3.write('File is small\\nstring1 is big\\nstring2\\nstring3')\n",
    "f3.close()"
   ]
  },
  {
   "cell_type": "code",
   "execution_count": 2,
   "id": "50d4b481",
   "metadata": {},
   "outputs": [],
   "source": [
    "import re\n",
    "def statistics():\n",
    "    l = []\n",
    "    with open('file_6.2.3', 'r') as f:\n",
    "        for index,line in enumerate(f):\n",
    "            l.extend(re.split(' ', line))\n",
    "            dct = {i:l.count(i) for i in l}\n",
    "    return dct\n",
    "statistics()"
   ]
  },
  {
   "cell_type": "code",
   "execution_count": 11,
   "id": "39978eab",
   "metadata": {},
   "outputs": [],
   "source": [
    "# 6.2.4 ???\n",
    "import pickle\n",
    "import re\n",
    "def statistics():\n",
    "    l = []\n",
    "    with open('file_6.2.3', 'r') as f:\n",
    "        for index,line in enumerate(f):\n",
    "            l.extend(re.split(' ', line))\n",
    "            dct = {i:l.count(i) for i in l}\n",
    "    with open('file_6.2.4', 'wb') as f:\n",
    "        pickle.dump(dct, f)\n",
    "        print(f.read())"
   ]
  },
  {
   "cell_type": "code",
   "execution_count": 2,
   "id": "9740c3a3",
   "metadata": {},
   "outputs": [],
   "source": [
    "#6.2.4\n",
    "import pickle\n",
    "def stat():\n",
    "    with open ('statistic.txt') as f:\n",
    "        a= [i.strip(',.1?-') for i in f.readline().split()]\n",
    "        res ={}\n",
    "        for i in a:\n",
    "            res[i] = res.get(i, 0) + 1\n",
    "            return res\n",
    "pickled_data = pickle.dumps(stat()) \n",
    "print(pickled data)\n",
    "dct = pickle.loads(pickled_data) \n",
    "print(dct)"
   ]
  },
  {
   "cell_type": "code",
   "execution_count": null,
   "id": "e9383c4c",
   "metadata": {},
   "outputs": [],
   "source": [
    "import re \n",
    "dictionary = {}\n",
    "with open (r'num5.1.txt') as file: \n",
    "    strokes = file.readlines()\n",
    "with open (r'num5.2.txt') as file: \n",
    "    strokes.extend(file.readlines())\n",
    "with open (r'num5.3.txt') as file: \n",
    "    strokes.extend(file.readlines())\n",
    "for stroke in strokes:\n",
    "    words = re.findall(r'\\b[a-zA-Z]+\\b',stroke) for word in words:\n",
    "        if word not in dictionary:\n",
    "            dictionary[word] = 1\n",
    "        else:\n",
    "            dictionary[word] += 1\n",
    "sorted_dictionary = dict(sorted(dictionary.items(), key=lambda item: item[1],reverse = True)) \n",
    "with open (r'C:\\Users\\233459\\Desktop\\words_frequency.txt','w+') as file: for x, y in sorted_dictionary.items():\n",
    "    file. write(f'Слово {x} встретилось {y} раз\\n')"
   ]
  },
  {
   "cell_type": "code",
   "execution_count": null,
   "id": "ce1dad1b",
   "metadata": {},
   "outputs": [],
   "source": []
  }
 ],
 "metadata": {
  "kernelspec": {
   "display_name": "Python 3 (ipykernel)",
   "language": "python",
   "name": "python3"
  },
  "language_info": {
   "codemirror_mode": {
    "name": "ipython",
    "version": 3
   },
   "file_extension": ".py",
   "mimetype": "text/x-python",
   "name": "python",
   "nbconvert_exporter": "python",
   "pygments_lexer": "ipython3",
   "version": "3.11.4"
  }
 },
 "nbformat": 4,
 "nbformat_minor": 5
}
