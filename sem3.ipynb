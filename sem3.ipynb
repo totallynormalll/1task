{
  "nbformat": 4,
  "nbformat_minor": 0,
  "metadata": {
    "colab": {
      "provenance": []
    },
    "kernelspec": {
      "name": "python3",
      "display_name": "Python 3"
    },
    "language_info": {
      "name": "python"
    }
  },
  "cells": [
    {
      "cell_type": "markdown",
      "source": [
        "#Задания по теме: Логические переменные, операции сравнения, условный оператор"
      ],
      "metadata": {
        "id": "i2npCchNSghy"
      }
    },
    {
      "cell_type": "markdown",
      "source": [
        "Задача 1\n",
        "\n",
        "        s1 = input('Введите первую строку:')\n",
        "        a = int(input('Введите целое число:'))\n",
        "        s2 = input('Введите вторую строку:')\n",
        "        print(len(s))\n",
        "        if s1 and not a - 5 and not s2:\n",
        "            print('Правильный ответ')\n",
        "        else:\n",
        "            print('Ответ неправильный, попробуйте еще раз.')\n",
        "\n",
        "\n",
        "\n",
        "Введите первую строку:\n",
        "\n",
        "Проверить выполнение следующих логических тождеств (законов де Моргана) для всех значений А и В (FF, FT, TF, TT):\n",
        "\n",
        "a = True, b = True, res1 = True, res2 = True\n",
        "\n",
        "a = True, b = False, res1 = True, res2 = True\n",
        "\n",
        "a = False, b = True, res1 = True, res2 = True\n",
        "\n",
        "a = False, b = False, res1 = True, res2 = True\n"
      ],
      "metadata": {
        "id": "Sjkdok-zUi3J"
      }
    },
    {
      "cell_type": "code",
      "execution_count": null,
      "metadata": {
        "colab": {
          "base_uri": "https://localhost:8080/"
        },
        "id": "tuvzBL29Se-t",
        "outputId": "2e7209aa-bcc1-42b7-913b-3bf0018f95d0"
      },
      "outputs": [
        {
          "output_type": "stream",
          "name": "stdout",
          "text": [
            "Введите первую строку:dhj\n",
            "Введите целое число:5\n",
            "Введите вторую строку:\n",
            "Правильный ответ\n"
          ]
        }
      ],
      "source": [
        "s1 = input('Введите первую строку:')\n",
        "a = int(input('Введите целое число:'))\n",
        "s2 = input('Введите вторую строку:')\n",
        "if s1 and not a - 5 and not s2:\n",
        "  print('Правильный ответ')\n",
        "else:\n",
        "  print('Ответ неправильный, попробуйте еще раз.')"
      ]
    },
    {
      "cell_type": "markdown",
      "source": [
        "Задача 2\n",
        "\n",
        "Записать систему неравенств в одну строку БЕЗ использования and, or, True, False (разрешаются только операции сравнения):\n",
        "\n",
        "•\tx^2 > 6 - x\n",
        "\n",
        "•\tx > 0\n",
        "\n",
        "Проверить на x = -5 (False), 3 (True), 1 (False), 0 (False):\n",
        "\n",
        "x = -5: False\n",
        "\n",
        "x = -4: False\n",
        "\n",
        "x = -3: False\n",
        "\n",
        "x = -2: False\n",
        "\n",
        "x = -1: False\n",
        "\n",
        "x = 0: False\n",
        "\n",
        "x = 1: False\n",
        "\n",
        "x = 2: False\n",
        "\n",
        "x = 3: True\n",
        "\n",
        "x = 4: True\n",
        "\n",
        "x = 5: True\n",
        "\n",
        "x = 6: True\n"
      ],
      "metadata": {
        "id": "fQH-q1WPWdPQ"
      }
    },
    {
      "cell_type": "code",
      "source": [
        "d=[-5,-4,-3,-2,-1, 0,1,2,3,4, 5, 6]\n",
        "for x in d:\n",
        "  print(x, ((x**2)>(6-x)) & (x>0))"
      ],
      "metadata": {
        "id": "8huEOtRUWdgt",
        "colab": {
          "base_uri": "https://localhost:8080/"
        },
        "outputId": "3ab76ce1-b7d4-47cb-cd5e-e6e8f5808d1c"
      },
      "execution_count": 9,
      "outputs": [
        {
          "output_type": "stream",
          "name": "stdout",
          "text": [
            "-5 False\n",
            "-4 False\n",
            "-3 False\n",
            "-2 False\n",
            "-1 False\n",
            "0 False\n",
            "1 False\n",
            "2 False\n",
            "3 True\n",
            "4 True\n",
            "5 True\n",
            "6 True\n"
          ]
        }
      ]
    },
    {
      "cell_type": "markdown",
      "source": [
        "Задача 3\n",
        "\n",
        "Записать все следующие условия в одну цепочку неравенств (без использования логических операторов):\n",
        "\n",
        "\n",
        "•\t0 <= a <= c\n",
        "\n",
        "•\t0 <= b < c\n",
        "\n",
        "•\tb == 2\n",
        "\n",
        "•\t0 <= c < 5\n",
        "\n"
      ],
      "metadata": {
        "id": "zKnkJ3P0Wd0k"
      }
    },
    {
      "cell_type": "code",
      "source": [
        "(0 <= a <= c) & ( 0 <= b < c) &(b == 2) &(0 <= c < 5)\n"
      ],
      "metadata": {
        "id": "YX7IPqHbWeCR"
      },
      "execution_count": null,
      "outputs": []
    },
    {
      "cell_type": "markdown",
      "source": [
        "3.2) Запросить пользователя ввести две строки. Проверить, что первая строка длиннее второй, но при этом находится ближе в лексикографическом порядке. Подобрать пару строк, удовлетворяющую условию."
      ],
      "metadata": {
        "id": "-AfuMFx3dPaH"
      }
    },
    {
      "cell_type": "code",
      "source": [
        "a=input()\n",
        "b=input()\n",
        "if len(a)>len(b) and a<b:\n",
        "      print('победа')\n",
        "else:\n",
        "      print('Не правильно')"
      ],
      "metadata": {
        "colab": {
          "base_uri": "https://localhost:8080/"
        },
        "id": "Ng92td1WdSWy",
        "outputId": "16839cfa-77b3-4b67-f109-9afe3b4f109c"
      },
      "execution_count": 12,
      "outputs": [
        {
          "output_type": "stream",
          "name": "stdout",
          "text": [
            "втвпе\n",
            "епгл\n",
            "победа\n"
          ]
        }
      ]
    },
    {
      "cell_type": "markdown",
      "source": [
        "Задача 4\n",
        "\n",
        "Записать перечисленные строки в порядке возрастания. Для проверки воспользуйтесь цепочкой из последовательных сравнений (s1 < s2 < s3 < ...), которая должна возвращать True:\n",
        "\n",
        "•\ts1 = 'string'\n",
        "\n",
        "•\ts2 = 'String'\n",
        "\n",
        "•\ts3 = 'strinG'\n",
        "\n",
        "•\ts4 = 'stringlong'\n",
        "\n",
        "•\ts5 = ' string'\n",
        "\n",
        "•\ts6 = 'string '\n",
        "\n",
        "•\ts7 = '_string'\n"
      ],
      "metadata": {
        "id": "VdDSMqoWXK0K"
      }
    },
    {
      "cell_type": "code",
      "source": [
        "s1 = 'string'\n",
        "s2 = 'String'\n",
        "s3 = 'strinG'\n",
        "s4 = 'stringlong'\n",
        "s5 = ' string'\n",
        "s6 = 'string '\n",
        "s7 = '_string'\n",
        "print(s5<s2<s7<s3<s1<s6<s4)"
      ],
      "metadata": {
        "id": "aLtgeTN_XLBQ",
        "colab": {
          "base_uri": "https://localhost:8080/"
        },
        "outputId": "537912bb-792a-4cab-d699-395164b59d47"
      },
      "execution_count": 39,
      "outputs": [
        {
          "output_type": "stream",
          "name": "stdout",
          "text": [
            "True\n"
          ]
        }
      ]
    },
    {
      "cell_type": "markdown",
      "source": [
        "Задача 5\n",
        "\n",
        "Если в произвольной входной строке встречается \"!!!\", выводить на печать \"exclaim\". При этом если строка начинается с \"!!!\", вместо этого выводить \"Nota bene: \" и исходную строку без восклицательных знаков. Если встречается \"???\", то выводить \"question\". Если встречаются оба (\"!!!\" и \"???\"), то ничего не выводить. В других случаях выводить \"random\"."
      ],
      "metadata": {
        "id": "YpRVF0dvXLj8"
      }
    },
    {
      "cell_type": "code",
      "source": [
        "s='uy&&&???ch'\n",
        "if '!!!' in s and \"???\" in s:\n",
        "  pass\n",
        "elif s[:3]=='!!!':\n",
        "  print('Nota bene:')\n",
        "elif '!!!' in s[3:]:\n",
        "  print(\"exclaim\")\n",
        "elif '???' in s:\n",
        "  print('question')\n",
        "else:\n",
        "  print(\"random\")"
      ],
      "metadata": {
        "id": "6ScpPqH4XLqs",
        "colab": {
          "base_uri": "https://localhost:8080/"
        },
        "outputId": "499570c8-2508-4aef-e68d-682c34d19857"
      },
      "execution_count": 49,
      "outputs": [
        {
          "output_type": "stream",
          "name": "stdout",
          "text": [
            "question\n"
          ]
        }
      ]
    },
    {
      "cell_type": "markdown",
      "source": [
        "Задача 6\n",
        "\n",
        "В задании 1 добавить проверку на длину входной строки. Если длина строки больше 5, выполнять инструкцию из задания 1. В противном случае выводить исходную строку три раза подряд через дефис, если количество символов нечетное.\n"
      ],
      "metadata": {
        "id": "ZZYOof3vXMIb"
      }
    },
    {
      "cell_type": "code",
      "source": [
        "s1 = input('Введите первую строку:')\n",
        "a = int(input('Введите целое число:'))\n",
        "s2 = input('Введите вторую строку:')\n",
        "if len(s1)>5:\n",
        "  if s1 and not a - 5 and not s2:\n",
        "    print('Правильный ответ')\n",
        "  else:\n",
        "    print('Ответ неправильный, попробуйте еще раз.')\n",
        "else:\n",
        "  if len(s1)%2!=0 :\n",
        "    print(s1,'-',s1,'-',s1)"
      ],
      "metadata": {
        "id": "AlGZe4VyXMPY",
        "colab": {
          "base_uri": "https://localhost:8080/"
        },
        "outputId": "b7d59dba-ad5a-4de2-bf3f-ab9b03fa8e97"
      },
      "execution_count": 61,
      "outputs": [
        {
          "output_type": "stream",
          "name": "stdout",
          "text": [
            "Введите первую строку:cvg\n",
            "Введите целое число:5\n",
            "Введите вторую строку:5\n",
            "cvg - cvg - cvg\n"
          ]
        }
      ]
    },
    {
      "cell_type": "markdown",
      "source": [
        "Задача 7\n",
        "\n",
        "Протестировать инструкцию: x = a if condition else b на примере: в переменную friend записать x, если в x встречается слово \"banana\", в ином случае записать в нее y.\n",
        "Пример: при x = \"banana monkey\", y = \"orangutan\" значение переменной friend должно быть равно \"banana monkey\"."
      ],
      "metadata": {
        "id": "vMAm4905Xtl5"
      }
    },
    {
      "cell_type": "code",
      "source": [],
      "metadata": {
        "id": "ZBd9yDWsXt3Q"
      },
      "execution_count": null,
      "outputs": []
    }
  ]
}