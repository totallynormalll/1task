{
  "nbformat": 4,
  "nbformat_minor": 0,
  "metadata": {
    "colab": {
      "provenance": []
    },
    "kernelspec": {
      "name": "python3",
      "display_name": "Python 3"
    },
    "language_info": {
      "name": "python"
    }
  },
  "cells": [
    {
      "cell_type": "markdown",
      "source": [
        "1) Дана строка 'aaa--bbb==ccc__ddd'. Написать регулярное выражение для разбивки строки на список ['aaa','bbb','ccc','ddd']."
      ],
      "metadata": {
        "id": "eIG01uhLk9lO"
      }
    },
    {
      "cell_type": "code",
      "source": [
        "import re\n",
        "\n",
        "s = 'aaa--bbb==ccc__ddd'\n",
        "result = re.split(r'[-=_]+', s)\n",
        "print(result)\n"
      ],
      "metadata": {
        "colab": {
          "base_uri": "https://localhost:8080/"
        },
        "id": "_N9IocFYlAN4",
        "outputId": "368a1c39-17bd-4bdc-ef2c-608c25f0ed0e"
      },
      "execution_count": 4,
      "outputs": [
        {
          "output_type": "stream",
          "name": "stdout",
          "text": [
            "['aaa', 'bbb', 'ccc', 'ddd']\n"
          ]
        }
      ]
    },
    {
      "cell_type": "markdown",
      "source": [
        "2) Получить первое слово из произвольной строки. Например, для 'Yesterday, All my troubles seemed so far away' должно возвращаться 'Yesterday'.\n",
        "\n"
      ],
      "metadata": {
        "id": "lAG08zWTlBsz"
      }
    },
    {
      "cell_type": "code",
      "source": [
        "import re\n",
        "\n",
        "s = 'Yesterday, All my troubles seemed so far away'\n",
        "first_word = re.match(r'\\b\\w+', s).group()\n",
        "print(first_word)"
      ],
      "metadata": {
        "colab": {
          "base_uri": "https://localhost:8080/"
        },
        "id": "sBaq7-kt0fBP",
        "outputId": "25fe91ef-055d-4de8-f9e7-4f3c4c95903e"
      },
      "execution_count": 21,
      "outputs": [
        {
          "output_type": "stream",
          "name": "stdout",
          "text": [
            "\n"
          ]
        }
      ]
    },
    {
      "cell_type": "markdown",
      "source": [
        "3) Получить последнее слово из произвольной строки.\n"
      ],
      "metadata": {
        "id": "EvgtnacQlBbN"
      }
    },
    {
      "cell_type": "code",
      "source": [
        "import re\n",
        "s='Yesterday, All my troubles seemed so far away'\n",
        "last_word=re.findall(r'\\b\\w+\\b',s)[-1]\n",
        "last_word"
      ],
      "metadata": {
        "colab": {
          "base_uri": "https://localhost:8080/",
          "height": 36
        },
        "id": "VYhn-GjglBWj",
        "outputId": "dbef5950-3c4b-43ab-de8f-4d7e2ea3a2fb"
      },
      "execution_count": 27,
      "outputs": [
        {
          "output_type": "execute_result",
          "data": {
            "text/plain": [
              "'away'"
            ],
            "application/vnd.google.colaboratory.intrinsic+json": {
              "type": "string"
            }
          },
          "metadata": {},
          "execution_count": 27
        }
      ]
    },
    {
      "cell_type": "markdown",
      "source": [
        "4) В следующем отрывке найти все слова, которые начинаются на гласную букву\n"
      ],
      "metadata": {
        "id": "qOKpD43ZlBPN"
      }
    },
    {
      "cell_type": "code",
      "source": [
        "import re\n",
        "s='The quick brown fox jumps over the lazy dog'\n",
        "slova=re.findall(r'\\b[eyuoiaEYUIOAУЕЁЫАОЭЯИЮеуёаоэяиюы]\\w+\\b',s)\n",
        "slova"
      ],
      "metadata": {
        "colab": {
          "base_uri": "https://localhost:8080/"
        },
        "id": "a1v9WBIrlBJl",
        "outputId": "b900600a-3789-4f3a-ddeb-8a0c3495f0c0"
      },
      "execution_count": 36,
      "outputs": [
        {
          "output_type": "execute_result",
          "data": {
            "text/plain": [
              "['over']"
            ]
          },
          "metadata": {},
          "execution_count": 36
        }
      ]
    },
    {
      "cell_type": "markdown",
      "source": [
        "5) В этом же отрывке найти первое слово каждой строки\n"
      ],
      "metadata": {
        "id": "Lfwk9SXHlBDc"
      }
    },
    {
      "cell_type": "code",
      "source": [
        "import re\n",
        "s = \"\"\"The quick brown fox\n",
        "jumps over the lazy dog\n",
        "and then keeps running\"\"\"\n",
        "first_words = re.findall(r'^\\w+',s, re.MULTILINE)\n",
        "print(first_words)\n"
      ],
      "metadata": {
        "colab": {
          "base_uri": "https://localhost:8080/"
        },
        "id": "zwzL9yJllA3k",
        "outputId": "d2d6730d-6d0a-4b57-dc5e-d7ffc4e3eabe"
      },
      "execution_count": 45,
      "outputs": [
        {
          "output_type": "stream",
          "name": "stdout",
          "text": [
            "['The', 'jumps', 'and']\n"
          ]
        }
      ]
    },
    {
      "cell_type": "markdown",
      "source": [
        "6) Проверить корректность введенного E-mail\n"
      ],
      "metadata": {
        "id": "j2FaWdNGlPl5"
      }
    },
    {
      "cell_type": "code",
      "source": [
        "import re\n",
        "s='hkv@gmail.com'\n",
        "res=re.fullmatch(r'^\\w+@\\w+.(com|ru)',s) is not None\n",
        "print(res)"
      ],
      "metadata": {
        "colab": {
          "base_uri": "https://localhost:8080/"
        },
        "id": "s-0zGu3qlPf3",
        "outputId": "0681ae1d-d13a-410c-f7e2-73c78a5b8a0e"
      },
      "execution_count": 72,
      "outputs": [
        {
          "output_type": "stream",
          "name": "stdout",
          "text": [
            "True\n"
          ]
        }
      ]
    },
    {
      "cell_type": "markdown",
      "source": [
        "7) В следующей строке найти все email-адреса и вывести только доменные имена\n"
      ],
      "metadata": {
        "id": "7hth0DnnlPNo"
      }
    },
    {
      "cell_type": "code",
      "source": [
        "import re\n",
        "s='Привет, мой email test@example.com, а у тебя admin@domain.com?'\n",
        "res=re.findall(r'\\b\\w+@\\w+.[A-Za-z]{2,}\\b',s)\n",
        "print(res)"
      ],
      "metadata": {
        "colab": {
          "base_uri": "https://localhost:8080/"
        },
        "id": "x5AK2v8flPGo",
        "outputId": "4f2d1cdc-64f3-48b5-efbe-a0e95699fb22"
      },
      "execution_count": 90,
      "outputs": [
        {
          "output_type": "stream",
          "name": "stdout",
          "text": [
            "['test@example.com', 'admin@domain.com']\n"
          ]
        }
      ]
    },
    {
      "cell_type": "markdown",
      "source": [
        "8) Проверить корректность введенного номера мобильного телефона. Корректными считаются:\n",
        "+7(999)999-99-99\n",
        "+7 (999) 999-99-99\n",
        "+7 999 999-99-99\n",
        "+7 999 999 99 99\n",
        "+79999999999"
      ],
      "metadata": {
        "id": "y68ggGCqlOAw"
      }
    },
    {
      "cell_type": "code",
      "source": [
        "import re\n",
        "phone_numbers = [\n",
        "    \"+7(999)999-99-99\",\n",
        "    \"+7 (999) 999-99-99\",\n",
        "    \"+7 999 999-99-99\",\n",
        "    \"+7 999 999 99 99\",\n",
        "    \"+79999999999\"]\n",
        "\n",
        "for number in phone_numbers:\n",
        "    if re.fullmatch(r'\\+7\\s?\\(?\\d{3}\\)?[-\\s]?\\d{3}[-\\s]?\\d{2}[-\\s]?\\d{2}', number):\n",
        "        print(f\"The phone number {number} is valid\")\n",
        "    else:\n",
        "        print(f\"The phone number {number} is invalid\")\n"
      ],
      "metadata": {
        "colab": {
          "base_uri": "https://localhost:8080/"
        },
        "id": "VdPFlmTylNcs",
        "outputId": "4c49788d-904d-4e2a-e3fc-720f5ef2e5cb"
      },
      "execution_count": 94,
      "outputs": [
        {
          "output_type": "stream",
          "name": "stdout",
          "text": [
            "The phone number +7(999)999-99-99 is valid\n",
            "The phone number +7 (999) 999-99-99 is valid\n",
            "The phone number +7 999 999-99-99 is valid\n",
            "The phone number +7 999 999 99 99 is valid\n",
            "The phone number +79999999999 is valid\n"
          ]
        }
      ]
    }
  ]
}