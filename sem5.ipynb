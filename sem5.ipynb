{
 "cells": [
  {
   "cell_type": "code",
   "execution_count": null,
   "id": "af04cb8d",
   "metadata": {},
   "outputs": [],
   "source": [
    "#1\n",
    "print('Введите строку:')\n",
    "s=input()\n",
    "a=['']*4\n",
    "a[0]=s[:s.find('-')]\n",
    "a[1]=s[s.rfind('-')+1:s.find('=')]\n",
    "a[2]=s[s.rfind('=')+1:s.find('_')]\n",
    "a[3]=s[s.rfind('_')+1:]\n",
    "print(a)"
   ]
  },
  {
   "cell_type": "code",
   "execution_count": null,
   "id": "cdd6f43d",
   "metadata": {},
   "outputs": [],
   "source": [
    "#2\n",
    "print('Введите предложение:')\n",
    "s=input()\n",
    "s1=s.lower()\n",
    "alf='abcdefghijklmnopqrstuvwxyz'\n",
    "for i in s1:\n",
    "    if not(i in alf):\n",
    "        k=s1.find(i)\n",
    "        break\n",
    "print(s[:k])"
   ]
  },
  {
   "cell_type": "code",
   "execution_count": null,
   "id": "722b2511",
   "metadata": {},
   "outputs": [],
   "source": [
    "#3\n",
    "print('Введите предложение:')\n",
    "s=input()\n",
    "s1=s.lower()\n",
    "alf='abcdefghijklmnopqrstuvwxyz'\n",
    "k=0\n",
    "for i in s1[s.rfind(' ')+1:]:\n",
    "    if not(i in alf):\n",
    "        k=s1.find(i)\n",
    "        break\n",
    "if k==0:\n",
    "    k=len(s)\n",
    "print(s[s.rfind(' ')+1:k])"
   ]
  },
  {
   "cell_type": "code",
   "execution_count": null,
   "id": "62d65f8f",
   "metadata": {},
   "outputs": [],
   "source": [
    "#4\n",
    "print('Введите предложение:')\n",
    "s=input().lower()\n",
    "a=[' ']*(s.count(' ')+1)\n",
    "alf='abcdefghijklmnopqrstuvwxyz'\n",
    "alf1='aeiouy'\n",
    "n=0\n",
    "for i in s:\n",
    "    if i in alf:\n",
    "        a[n]+=i\n",
    "    elif i==' ':\n",
    "        n+=1\n",
    "for i in a:\n",
    "    if i[0] in alf1:\n",
    "        print(i)\n",
    "print(a)"
   ]
  },
  {
   "cell_type": "code",
   "execution_count": null,
   "id": "91dd01e3",
   "metadata": {},
   "outputs": [],
   "source": [
    "#5\n",
    "def pr(s):\n",
    "    a=['']*3\n",
    "    if s.rfind('.')>s.rfind('@'):\n",
    "        a[0]=s[:s.rfind('@')]\n",
    "        a[1]=s[s.rfind('@')+1:s.rfind('.')]\n",
    "        a[2]=s[s.rfind('.')+1:]\n",
    "        print(s, '- корректный email')\n",
    "        print('Домен:', a[1])\n",
    "        return True\n",
    "    return False\n",
    "\n",
    "print('Введите строку:')\n",
    "s=input()\n",
    "b=s.split()\n",
    "for i in b:\n",
    "    if pr(i):\n",
    "        print()"
   ]
  }
 ],
 "metadata": {
  "kernelspec": {
   "display_name": "Python 3 (ipykernel)",
   "language": "python",
   "name": "python3"
  },
  "language_info": {
   "codemirror_mode": {
    "name": "ipython",
    "version": 3
   },
   "file_extension": ".py",
   "mimetype": "text/x-python",
   "name": "python",
   "nbconvert_exporter": "python",
   "pygments_lexer": "ipython3",
   "version": "3.11.4"
  }
 },
 "nbformat": 4,
 "nbformat_minor": 5
}
