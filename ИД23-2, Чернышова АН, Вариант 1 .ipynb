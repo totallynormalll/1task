{
 "cells": [
  {
   "cell_type": "markdown",
   "metadata": {},
   "source": [
    "### Контрольная работа № 1.\n",
    "### Вариант 1.\n",
    "#### Студент Чернышова АН группа ИД23-2"
   ]
  },
  {
   "cell_type": "markdown",
   "metadata": {},
   "source": [
    "1. Создайте класс Length (Длина), имеющий свойства\n",
    "\n",
    "• value (значение),\n",
    "\n",
    "• unit (единица измерения).\n",
    "\n",
    "При изменении единицы измерения значение должно соответственно меняться. Например, при переходе от сантиметров к метрам значение должно уменьшаться в 100 раз. Допустимые значения свойства unit: ‘см’, ‘м’, ‘км’. Организуйте эту проверку. Продемонстрируйте работу с классом."
   ]
  },
  {
   "cell_type": "code",
   "execution_count": 34,
   "metadata": {},
   "outputs": [
    {
     "name": "stdout",
     "output_type": "stream",
     "text": [
      "Введите число: 100\n",
      "Введите размерность(см,м,км): см\n",
      "Длинна в сантиметрах: 100\n",
      "Длинна в метрах: 1.0\n",
      "Длинна в километра: 0.001\n"
     ]
    }
   ],
   "source": [
    "class Length:\n",
    "    def __init__(self,value,unit):\n",
    "        if unit not in ['см', 'м', 'км']:\n",
    "            print(\"Недопустимая единица измерения\")\n",
    "        self.value = value \n",
    "        self.unit = unit\n",
    "    \n",
    "    def convert(self):\n",
    "        santimeters=0\n",
    "        meters=0\n",
    "        kilometers=0\n",
    "        if self.unit == 'см': \n",
    "            santimeters=self.value\n",
    "            meters = self.value/100\n",
    "            kilometers= self.value/100/1000\n",
    "        elif self.unit == 'м':\n",
    "            santimeters=self.value*100\n",
    "            meters = self.value\n",
    "            kilometers= self.value/1000\n",
    "        elif self.unit == 'км':\n",
    "            santimeters=self.value*100*1000\n",
    "            meters = self.value*1000\n",
    "            kilometers= self.value\n",
    "        return f\"Длинна в сантиметрах: {santimeters}\\nДлинна в метрах: {meters}\\nДлинна в километра: {kilometers}\"\n",
    "\n",
    "length = Length(int(input('Введите число: ')), input('Введите размерность(см,м,км): '))\n",
    "print(length.convert())\n"
   ]
  },
  {
   "cell_type": "markdown",
   "metadata": {},
   "source": [
    "2. Создайте класс Ведомость, имеющий\n",
    "атрибут класса:\n",
    "\n",
    "• список_дисциплин (значением является список с названиями дисциплин);\n",
    "\n",
    "свойства:\n",
    "\n",
    "• дисциплина (при задании значения проверять наличие дисциплины в атрибуте список_дисциплин),\n",
    "\n",
    "• группа;\n",
    "\n",
    "методы:\n",
    "\n",
    "• put – добавляет в ведомость информацию об оценке студента (фамилия, оценка – параметры метода). Для хранения данных внутри класса используйте словарь, в котором ключом является фамилия студента. Возможные оценки – «отлично», «хорошо», «удовл.», «неудовл.», «н/я»;\n",
    "\n",
    "• get – возвращает оценку, полученную студентом (фамилия студента – параметр метода);\n",
    "\n",
    "• change – изменяет оценку, полученную студентом (фамилия студента и новая оценка – параметры метода);\n",
    "\n",
    "• del – удаляет информацию о студенте из ведомости (фамилия студента – параметр метода);\n",
    "\n",
    "• result – возвращает кортеж из 5 чисел (количество каждого вида оценок в ведомости);\n",
    "\n",
    "• __init__ – конструктор;\n",
    "\n",
    "• __str__ – возвращает строку, содержащую заголовки (название экзамена, группа) и результаты экзамена в виде таблицы;\n",
    "\n",
    "• count – возвращает количество студентов в ведомости;\n",
    "\n",
    "• names – возвращает список фамилий, имеющихся в ведомости.\n",
    "\n",
    "Продемонстрируйте работу с классом. \n"
   ]
  },
  {
   "cell_type": "code",
   "execution_count": 33,
   "metadata": {},
   "outputs": [
    {
     "name": "stdout",
     "output_type": "stream",
     "text": [
      "(1, 1, 1, 0, 0)\n",
      "3\n",
      "['Баранкин', 'Сидиров', 'Петров']\n",
      "disciplina: Математика\n",
      "group: group1\n",
      "Баранкин: отлично\n",
      "Сидиров: хорошо\n",
      "Петров: удовл.\n"
     ]
    }
   ],
   "source": [
    "# Решение 2.\n",
    "\n",
    "class Vedomost: \n",
    "    spisok_disciplin = [\"Русский\", \"Математика\", \"Физика\", \"Химия\", \"История\"] \n",
    " \n",
    "    def __init__(self, disciplina, group): \n",
    "        if disciplina not in self.spisok_disciplin: \n",
    "            raise ValueError(\"Недопустимая дисциплина\") \n",
    "        self.disciplina = disciplina \n",
    "        self.group = group \n",
    "        self.proccesing = {} \n",
    " \n",
    "    def put(self, surename, mark): \n",
    "        if mark not in [\"отлично\", \"хорошо\", \"удовл.\", \"неудовл.\", \"н/я\"]: \n",
    "            raise ValueError(\"Недопустимая оценка\") \n",
    "        self.proccesing[surename] = mark \n",
    " \n",
    "    def get(self, surename): \n",
    "        return self.proccesing.get(surename, \"нет информации\") \n",
    " \n",
    "    def change(self, surename, new_mark): \n",
    "        if new_mark not in [\"отлично\", \"хорошо\", \"удовл.\", \"неудовл.\", \"н/я\"]: \n",
    "            raise ValueError(\"Недопустимая оценка\") \n",
    "        if surename in self.proccesing: \n",
    "            self.proccesing[surename] = new_mark \n",
    "        else: \n",
    "            raise ValueError(\"Студент не найден\") \n",
    " \n",
    "    def __del__(self): \n",
    "        del self.proccesing \n",
    " \n",
    "    def result(self): \n",
    "        отлично = sum(1 for mark in self.proccesing.values() if mark == \"отлично\") \n",
    "        хорошо = sum(1 for mark in self.proccesing.values() if mark == \"хорошо\") \n",
    "        удовл = sum(1 for mark in self.proccesing.values() if mark == \"удовл.\") \n",
    "        неудовл = sum(1 for mark in self.proccesing.values() if mark == \"неудовл.\") \n",
    "        н_я = sum(1 for mark in self.proccesing.values() if mark == \"н/я\") \n",
    "        return (отлично, хорошо, удовл, неудовл, н_я) \n",
    " \n",
    "    def __str__(self): \n",
    "        результаты = \"\\n\".join(f\"{key}: {value}\" for key, value in self.proccesing.items()) \n",
    "        return f\"disciplina: {self.disciplina}\\ngroup: {self.group}\\n{результаты}\" \n",
    " \n",
    "    def count(self): \n",
    "        return len(self.proccesing) \n",
    " \n",
    "    def names(self): \n",
    "        return list(self.proccesing.keys()) \n",
    " \n",
    "# Пример\n",
    "vedomost = Vedomost(\"Математика\", \"group1\") \n",
    "vedomost.put(\"Баранкин\", \"отлично\") \n",
    "vedomost.put(\"Сидиров\", \"хорошо\") \n",
    "vedomost.put(\"Петров\", \"удовл.\") \n",
    " \n",
    "print(vedomost.result())\n",
    "print(vedomost.count()) \n",
    "print(vedomost.names())  \n",
    " \n",
    "print(vedomost) "
   ]
  },
  {
   "cell_type": "markdown",
   "metadata": {},
   "source": [
    "3. Создайте класс Заказ(Order), у которого есть свойства код_товара(code), цена(price), количество(count) и методы __init__ и __str__.\n",
    "\n",
    "Создайте 2 класса-потомка: Опт(Opt) и Розница(Retail).\n",
    "В этих классах создайте методы __init__, __str__.и сумма_заказа(summa), позволяющий узнать стоимость заказа.\n",
    "Для опта стоимость единицы товара составляет 95% от цены, а при покупке более 500 штук – 90% цены.\n",
    "В розницу стоимость единицы товара составляет 100% цены. Стоимость заказа равна произведению цены на количество. \n",
    "\n",
    "Продемонстрируйте работу с классами, создав необходимые объекты и обратившись к их свойствам и методам\n"
   ]
  },
  {
   "cell_type": "code",
   "execution_count": 5,
   "metadata": {},
   "outputs": [
    {
     "name": "stdout",
     "output_type": "stream",
     "text": [
      "Оптовый заказ - Код товара: A001, Цена: 100, Количество: 600\n",
      "Стоимость заказа: 54000.0\n",
      "Розничный заказ - Код товара: B002, Цена: 150, Количество: 20\n",
      "Стоимость заказа: 3000\n"
     ]
    }
   ],
   "source": [
    "# Решение 3.\n",
    "class Order: \n",
    "    def __init__(self, code, price, count): \n",
    "        self.code = code \n",
    "        self.price = price \n",
    "        self.count = count \n",
    " \n",
    "    def __str__(self): \n",
    "        return f\"Код товара: {self.code}, Цена: {self.price}, Количество: {self.count}\" \n",
    " \n",
    "class Opt(Order): \n",
    "    def __init__(self, code, price, count): \n",
    "        super().__init__(code, price, count) \n",
    " \n",
    "    def __str__(self): \n",
    "        return f\"Оптовый заказ - Код товара: {self.code}, Цена: {self.price}, Количество: {self.count}\" \n",
    " \n",
    "    def summa(self): \n",
    "        if self.count > 500: \n",
    "            total_price = self.price * self.count * 0.9 \n",
    "        else: \n",
    "            total_price = self.price * self.count * 0.95 \n",
    "        return f\"Стоимость заказа: {total_price}\" \n",
    " \n",
    "class Retail(Order): \n",
    "    def __init__(self, code, price, count): \n",
    "        super().__init__(code, price, count) \n",
    " \n",
    "    def __str__(self): \n",
    "        return f\"Розничный заказ - Код товара: {self.code}, Цена: {self.price}, Количество: {self.count}\" \n",
    " \n",
    "    def summa(self): \n",
    "        total_price = self.price * self.count \n",
    "        return f\"Стоимость заказа: {total_price}\" \n",
    " \n",
    "# Создание объектов \n",
    "opt_order = Opt(\"A001\", 100, 600) \n",
    "retail_order = Retail(\"B002\", 150, 20) \n",
    " \n",
    "# Вывод информации о заказах и их стоимостях \n",
    "print(opt_order) \n",
    "print(opt_order.summa()) \n",
    " \n",
    "print(retail_order) \n",
    "print(retail_order.summa())"
   ]
  },
  {
   "cell_type": "markdown",
   "metadata": {},
   "source": [
    "4. Написать функцию my_func_1(lst), которая переворачивает список вложенных списков с произвольным уровнем вложенности.\n",
    "Любой элемент, не являющийся списком, не должен быть изменен.\n",
    "\n",
    "Примеры, демонстрирующие ожидаемое поведение функции:\n",
    "\n",
    "assert my_func_1(42) == 42\n",
    "\n",
    "assert my_func_1([]) == []\n",
    "\n",
    "assert my_func_1([1, 2]) == [2, 1]\n",
    "\n",
    "assert my_func_1((1, 2)) == (1, 2)\n",
    "\n",
    "assert my_func_1([[1, 2], [3, [4, 5]], 6]) == [6, [[5, 4], 3], [2, 1]]\n",
    "\n",
    "assert my_func_1(['123', '456', '789', {10: [11, 12], 13: 14}, (15, 16)]) == [(15, 16), {10: [11, 12], 13: 14}, '789', '456', '123']\n",
    "\n",
    "assert my_func_1([[[[[1, 2]]]]]) == [[[[[2, 1]]]]]"
   ]
  },
  {
   "cell_type": "code",
   "execution_count": 40,
   "metadata": {},
   "outputs": [
    {
     "name": "stdout",
     "output_type": "stream",
     "text": [
      "42\n",
      "[]\n",
      "[2, 1]\n",
      "(1, 2)\n",
      "[6, [[5, 4], 3], [2, 1]]\n",
      "[(15, 16), {10: [11, 12], 13: 14}, '789', '456', '123']\n",
      "[[[[[2, 1]]]]]\n"
     ]
    }
   ],
   "source": [
    "# Решение 4.\n",
    "def my_func_1(lst): \n",
    "    if isinstance(lst, list): \n",
    "        return list(map(my_func_1, reversed(lst))) \n",
    "    else: \n",
    "        return lst \n",
    "print(my_func_1(42))\n",
    "print(my_func_1([]))\n",
    "print(my_func_1([1, 2]))\n",
    "print(my_func_1((1, 2)))\n",
    "print( my_func_1([[1, 2], [3, [4, 5]], 6]))\n",
    "print(my_func_1(['123', '456', '789', {10: [11, 12], 13: 14}, (15, 16)]))\n",
    "print(my_func_1([[[[[1, 2]]]]]))"
   ]
  },
  {
   "cell_type": "markdown",
   "metadata": {},
   "source": [
    "5.При помощи механизма map/filter/reduce возвести в квадрат числа от 1 до 100, и рассчитать их сумму, не включая в сумму числа, кратные 9. Написать реализацию в одну строку."
   ]
  },
  {
   "cell_type": "code",
   "execution_count": 26,
   "metadata": {},
   "outputs": [
    {
     "data": {
      "text/plain": [
       "225589"
      ]
     },
     "execution_count": 26,
     "metadata": {},
     "output_type": "execute_result"
    }
   ],
   "source": [
    "res=sum(filter(lambda x:x%9!=0,list(map(lambda x: x**2,range(1,101)))))\n",
    "res"
   ]
  },
  {
   "cell_type": "code",
   "execution_count": null,
   "metadata": {},
   "outputs": [],
   "source": []
  }
 ],
 "metadata": {
  "kernelspec": {
   "display_name": "Python 3 (ipykernel)",
   "language": "python",
   "name": "python3"
  },
  "language_info": {
   "codemirror_mode": {
    "name": "ipython",
    "version": 3
   },
   "file_extension": ".py",
   "mimetype": "text/x-python",
   "name": "python",
   "nbconvert_exporter": "python",
   "pygments_lexer": "ipython3",
   "version": "3.10.9"
  }
 },
 "nbformat": 4,
 "nbformat_minor": 4
}
