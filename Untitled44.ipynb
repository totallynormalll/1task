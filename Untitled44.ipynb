{
 "cells": [
  {
   "cell_type": "code",
   "execution_count": 6,
   "id": "f5c60de7",
   "metadata": {},
   "outputs": [],
   "source": [
    "import csv\n",
    "f = open('table.csv',mode='w',encoding='utf-8')\n",
    "f.close()\n",
    "def safe_table_csv(f,en,header,*rows):   # сохраняем данные в файл\n",
    "    with open(f, mode='w', encoding=en) as w_f:\n",
    "        file_csv_w = csv.writer(w_f, delimiter = \",\", lineterminator=\"\\r\")   # lineterminator - разделитель между строками таблицы\n",
    "        file_csv_w.writerow(header)\n",
    "        for r in rows:\n",
    "            file_csv_w.writerow(r)"
   ]
  },
  {
   "cell_type": "code",
   "execution_count": null,
   "id": "a56df6dd",
   "metadata": {},
   "outputs": [],
   "source": [
    "safe_table_csv(f='table.csv',en='MacCyrillic',header=['Фамилия','Имя','Отчество'],*(['Петров','Петр','Петрович'],['Иванов','Иван','Иваныч']))"
   ]
  },
  {
   "cell_type": "code",
   "execution_count": 8,
   "id": "8f88654b",
   "metadata": {},
   "outputs": [],
   "source": [
    "def load_table_csv(f, en):   # читаем данные из файла\n",
    "    with open(f, encoding=en) as r_f:\n",
    "        file_csv_r = csv.reader(r_f, delimiter = ',')   # Создаем объект reader, указываем символ-разделитель \",\"\n",
    "        count = 0   # счетчик кол-ва сторк\n",
    "        for row in file_csv_r:   # считываем данные из CSV файла\n",
    "            if count == 0:\n",
    "                print(f'Таблица содержит столбцы: {\" , \".join(row)}')   # Вывод строки, содержащей заголовки для столбцов\n",
    "                print('Строки таблицы: ')\n",
    "            else:\n",
    "                print(\" , \".join(row))   # Вывод строк\n",
    "            count += 1\n",
    "        print(f'Всего в файле {count} строк.')"
   ]
  },
  {
   "cell_type": "code",
   "execution_count": 9,
   "id": "9234b035",
   "metadata": {
    "scrolled": true
   },
   "outputs": [
    {
     "name": "stdout",
     "output_type": "stream",
     "text": [
      "Всего в файле 0 строк.\n"
     ]
    }
   ],
   "source": [
    "load_table_csv('table.csv', 'utf-8')"
   ]
  },
  {
   "cell_type": "code",
   "execution_count": 10,
   "id": "ca9aa5d1",
   "metadata": {},
   "outputs": [],
   "source": [
    "import pickle\n",
    "import shelve"
   ]
  },
  {
   "cell_type": "code",
   "execution_count": 11,
   "id": "cbc48229",
   "metadata": {},
   "outputs": [],
   "source": [
    "data = {'Фамилия': ['Петров','Иванов','Николаев'], 'Имя': ['Петр','Иван','Николай'], 'Отчество': ['Петрович', 'Иванович','Николаевич']}"
   ]
  },
  {
   "cell_type": "code",
   "execution_count": 12,
   "id": "25f2af3a",
   "metadata": {},
   "outputs": [],
   "source": [
    "def safe_table_pickle(f,d):   # сохраняем файл\n",
    "    with open(f, 'wb') as f_w:\n",
    "        pickle.dump(d, f_w)\n",
    "        \n",
    "        \n",
    "        \n",
    "#def safe_table_pickle_shelve(f, d1=[], d2=[], d={}):\n",
    "#    with shelve.open(f,'w') as bd:\n",
    "#        if d != {}:\n",
    "#            db = d\n",
    "#        elif d1 != 0 and d2 != 0:\n",
    "#            for k in d1:\n",
    "#                for i in range(len(d1)):\n",
    "#                    for v in d2: \n",
    "#                        db[k] = v[i]"
   ]
  },
  {
   "cell_type": "code",
   "execution_count": 13,
   "id": "8a7ba822",
   "metadata": {},
   "outputs": [],
   "source": [
    "safe_table_pickle('table.pickle',d=data)"
   ]
  },
  {
   "cell_type": "code",
   "execution_count": 14,
   "id": "b611246e",
   "metadata": {},
   "outputs": [],
   "source": [
    "def load_table_pickle(f):   # загрузка файла\n",
    "    with open(f,'rb') as f_r:\n",
    "        data_new = pickle.load(f_r)\n",
    "        print(', '.join([k for k in data_new.keys()]))\n",
    "        for i in range(len(list(data_new.keys()))):\n",
    "            print(', '.join([v[i] for v in data_new.values()]))"
   ]
  },
  {
   "cell_type": "code",
   "execution_count": 15,
   "id": "d6215474",
   "metadata": {
    "scrolled": false
   },
   "outputs": [
    {
     "name": "stdout",
     "output_type": "stream",
     "text": [
      "Фамилия, Имя, Отчество\n",
      "Петров, Петр, Петрович\n",
      "Иванов, Иван, Иванович\n",
      "Николаев, Николай, Николаевич\n"
     ]
    }
   ],
   "source": [
    "load_table_pickle('table.pickle')"
   ]
  },
  {
   "cell_type": "code",
   "execution_count": 16,
   "id": "8c47ac3a",
   "metadata": {},
   "outputs": [],
   "source": [
    "def safe_table_txt(f,header,*arg):   # сохраненяем файла\n",
    "    with open(f,'w') as f_w:\n",
    "        f_w.writelines(', '.join(header))\n",
    "        for a in arg:\n",
    "            f_w.writelines(', '.join(a))"
   ]
  },
  {
   "cell_type": "code",
   "execution_count": null,
   "id": "49d2f9c4",
   "metadata": {},
   "outputs": [],
   "source": [
    "safe_table_txt('table.txt',['Фамилия','Имя','Отчество'],(['Петров','Петр','Петрович'],['Иванов','Иван','Иванович']))"
   ]
  },
  {
   "cell_type": "code",
   "execution_count": 18,
   "id": "91aae1ae",
   "metadata": {},
   "outputs": [],
   "source": [
    "def print_table(f):   # загрузка файла\n",
    "    with open(f,'r') as f_r:\n",
    "        print(f_r.read())"
   ]
  },
  {
   "cell_type": "code",
   "execution_count": 19,
   "id": "42d98695",
   "metadata": {},
   "outputs": [
    {
     "name": "stdout",
     "output_type": "stream",
     "text": [
      "Фамилия, Имя, Отчество\n"
     ]
    }
   ],
   "source": [
    "print_table('table.txt')"
   ]
  },
  {
   "cell_type": "markdown",
   "id": "af296de6",
   "metadata": {},
   "source": [
    "    get_rows_by_number_csv\n",
    "Получить строки по их номеру из таблицы. Можно выбрать одну строку или несколько строк, указав начальный и конечный номер строки. Если параметр copy_table установлен в False, то функция вернет новое представление таблицы, которое будет работать с исходными данными. Если параметр установлен в True, то данные будут скопированы, и изменения в новой таблице не будут влиять на исходную."
   ]
  },
  {
   "cell_type": "code",
   "execution_count": 29,
   "id": "e63ce8ce",
   "metadata": {},
   "outputs": [],
   "source": [
    "def get_rows_by_number_csv(f, en, start=0, stop=0, copy_table=False):\n",
    "    with open(f, encoding=en) as r_f:\n",
    "        file_csv_r = csv.reader(r_f, delimiter = ',') \n",
    "        for i in range(start):\n",
    "            next(file_csv_r)\n",
    "            print(next(file_csv_r))\n",
    "        if stop != 0:\n",
    "            for i in range(stop-start):\n",
    "                print(next(file_csv_r))"
   ]
  },
  {
   "cell_type": "code",
   "execution_count": 21,
   "id": "49a1acb5",
   "metadata": {},
   "outputs": [],
   "source": [
    "get_rows_by_number_csv(f='table.csv',en='MacCyrillic', start=0, stop=0, copy_table=False)"
   ]
  },
  {
   "cell_type": "code",
   "execution_count": 22,
   "id": "b5699fd7",
   "metadata": {},
   "outputs": [],
   "source": [
    "def get_rows_by_number_pickle(f, start=0, stop=0, copy_table=False):\n",
    "    with open(f,'rb') as f_r:\n",
    "        data_new = pickle.load(f_r)\n",
    "        if start == 0:\n",
    "            print(', '.join([k for k in data_new.keys()]))\n",
    "        else:\n",
    "            print(', '.join([v[start-1] for v in data_new.values()]))  \n",
    "        if stop != 0:\n",
    "            for i in range(start,stop):\n",
    "                print(', '.join([v[i] for v in data_new.values()]))"
   ]
  },
  {
   "cell_type": "code",
   "execution_count": 23,
   "id": "cb8631b5",
   "metadata": {
    "scrolled": false
   },
   "outputs": [
    {
     "name": "stdout",
     "output_type": "stream",
     "text": [
      "Фамилия, Имя, Отчество\n",
      "Петров, Петр, Петрович\n",
      "Иванов, Иван, Иванович\n",
      "Николаев, Николай, Николаевич\n"
     ]
    }
   ],
   "source": [
    "get_rows_by_number_pickle(f='table.pickle', start=0, stop=3, copy_table=False)"
   ]
  },
  {
   "cell_type": "code",
   "execution_count": 24,
   "id": "2c4e3a2a",
   "metadata": {},
   "outputs": [
    {
     "name": "stdout",
     "output_type": "stream",
     "text": [
      "Фамилия, Имя, Отчество\n",
      "Петров, Петр, Петрович\n",
      "Иванов, Иван, Иванович\n"
     ]
    }
   ],
   "source": [
    "get_rows_by_number_pickle(f='table.pickle', stop=2, copy_table=False)"
   ]
  },
  {
   "cell_type": "markdown",
   "id": "aea2616a",
   "metadata": {},
   "source": [
    "    get_rows_by_index\n",
    "Получить строки по индексу (val1, … , copy_table=False) - создать новую таблицу из одной строки или строк, которые имеют значения в первом столбце, совпадающие с переданными аргументами val1, … , valN. Функция может скопировать исходные данные или создать новое представление таблицы, которое будет работать с исходными данными (copy_table=False). Изменения, внесенные через это представление, будут отображаться и в исходной таблице."
   ]
  },
  {
   "cell_type": "code",
   "execution_count": 25,
   "id": "c73120bb",
   "metadata": {},
   "outputs": [],
   "source": [
    "def get_rows_by_index(f, copy_table=False, *val) :\n",
    "    with open(f,'rb') as fr:\n",
    "        data_new = pickle.load(fr)\n",
    "        row = data_new[list(data_new.keys())[0]]   # значения первого столбца для всех строк\n",
    "        for c in val:\n",
    "            for r in row:\n",
    "                if c == r:\n",
    "                    print(', '.join([v[row.index(r)] for v in data_new.values()]))"
   ]
  },
  {
   "cell_type": "code",
   "execution_count": null,
   "id": "33178daa",
   "metadata": {},
   "outputs": [],
   "source": [
    "get_rows_by_index(f='table.pickle', copy_table=False, ['Петров','Николаев'])"
   ]
  },
  {
   "cell_type": "markdown",
   "id": "11fcc948",
   "metadata": {},
   "source": [
    "    get_column_types(by_number=True)\n",
    "Функция get_column_types(by_number=True) возвращает словарь, где ключи - названия столбцов, а значения - их типы данных (int, float, bool, str). Если параметр by_number=True, то значения столбцов будут определяться по их числовому индексу, иначе - по их названию."
   ]
  },
  {
   "cell_type": "code",
   "execution_count": 27,
   "id": "87c92a5c",
   "metadata": {},
   "outputs": [],
   "source": [
    "# Не доделано! \n",
    "def get_column_types(f, by_number=True):\n",
    "    with open(f,'rb') as fr:\n",
    "        data_new = pickle.load(fr)\n",
    "        db = {}\n",
    "#        c = 0\n",
    "#        while c > len(list(data_new.keys())):\n",
    "#            l = []\n",
    "        for k in data_new.keys():\n",
    "#            for i in range(len(data_new.values()[0])):\n",
    "            db[k] = [type(v[i]) for v in list(data_new.values()) for i in range(len(list(data_new.values())[0]))]\n",
    "#                    for v in data_new.values():\n",
    "#                        l.append(type(v[i]))\n",
    "#                    db[k] = type(v[i])\n",
    "#                db[k] = l\n",
    "#                c += 1\n",
    "        print(db)"
   ]
  },
  {
   "cell_type": "code",
   "execution_count": 28,
   "id": "91f30ffa",
   "metadata": {
    "scrolled": true
   },
   "outputs": [
    {
     "name": "stdout",
     "output_type": "stream",
     "text": [
      "{'Фамилия': [<class 'str'>, <class 'str'>, <class 'str'>, <class 'str'>, <class 'str'>, <class 'str'>, <class 'str'>, <class 'str'>, <class 'str'>], 'Имя': [<class 'str'>, <class 'str'>, <class 'str'>, <class 'str'>, <class 'str'>, <class 'str'>, <class 'str'>, <class 'str'>, <class 'str'>], 'Отчество': [<class 'str'>, <class 'str'>, <class 'str'>, <class 'str'>, <class 'str'>, <class 'str'>, <class 'str'>, <class 'str'>, <class 'str'>]}\n"
     ]
    }
   ],
   "source": [
    "get_column_types('table.pickle', by_number=True)"
   ]
  },
  {
   "cell_type": "code",
   "execution_count": null,
   "id": "a27a6b94",
   "metadata": {},
   "outputs": [],
   "source": []
  }
 ],
 "metadata": {
  "kernelspec": {
   "display_name": "Python 3 (ipykernel)",
   "language": "python",
   "name": "python3"
  },
  "language_info": {
   "codemirror_mode": {
    "name": "ipython",
    "version": 3
   },
   "file_extension": ".py",
   "mimetype": "text/x-python",
   "name": "python",
   "nbconvert_exporter": "python",
   "pygments_lexer": "ipython3",
   "version": "3.11.4"
  }
 },
 "nbformat": 4,
 "nbformat_minor": 5
}
